{
 "cells": [
  {
   "cell_type": "markdown",
   "metadata": {},
   "source": [
    "1. 데이터 로딩\n",
    "2. 자료 정리\n",
    "3. AE 모델 통하기\n",
    "4. 머신러닝"
   ]
  },
  {
   "cell_type": "code",
   "execution_count": 1,
   "metadata": {},
   "outputs": [],
   "source": [
    "import pandas as pd\n",
    "import torch\n",
    "import matplotlib.pyplot as plt\n",
    "import seaborn as sns\n",
    "from xgboost import XGBRegressor,XGBClassifier # model\n",
    "from xgboost import plot_importance # 중요변수 시각화\n",
    "from sklearn.model_selection import train_test_split\n",
    "import numpy as np\n",
    "\n",
    "labeled = pd.read_csv('../datasets/labeled.csv')\n",
    "unlabeled = pd.read_csv('../datasets/unlabeled.csv')"
   ]
  },
  {
   "cell_type": "code",
   "execution_count": 2,
   "metadata": {},
   "outputs": [],
   "source": [
    "labeled_col = labeled.columns\n",
    "unlabeled_col = unlabeled.columns\n",
    "labeled_train = labeled.copy()\n",
    "unlabeled_train = unlabeled.copy()"
   ]
  },
  {
   "cell_type": "code",
   "execution_count": 3,
   "metadata": {},
   "outputs": [],
   "source": [
    "# 중복 항목 제거\n",
    "labeled_train.drop_duplicates(['_id'], inplace=True)\n",
    "labeled_train.drop(['EQUIP_CD' ],axis=1, inplace=True)\n",
    "labeled_train.drop(['PART_FACT_PLAN_DATE' ],axis=1, inplace=True)\n",
    "labeled_train.drop(['PassOrFail' ],axis=1, inplace=True)\n",
    "unlabeled_train.drop_duplicates(['_id'], inplace=True)\n",
    "unlabeled_train.drop(['EQUIP_CD' ],axis=1, inplace=True)\n",
    "unlabeled_train.drop(['PART_FACT_PLAN_DATE' ],axis=1, inplace=True)\n",
    "unlabeled_train.drop(['PART_NO' ],axis=1, inplace=True)\n",
    "unlabeled_train.drop(['Unnamed: 0' ],axis=1, inplace=True)\n"
   ]
  },
  {
   "cell_type": "code",
   "execution_count": 4,
   "metadata": {},
   "outputs": [],
   "source": [
    "label_len = labeled_train.shape[0]\n",
    "unlabel_len = unlabeled_train.shape[0]\n",
    "merged_data = pd.concat([labeled_train, unlabeled_train])\n",
    "# merged_data_copy = merged_data.copy()\n",
    "merged_data_copy = unlabeled_train.copy() # only unlabeled data"
   ]
  },
  {
   "cell_type": "code",
   "execution_count": 5,
   "metadata": {},
   "outputs": [
    {
     "data": {
      "text/plain": [
       "Index(['_id', 'TimeStamp', 'PART_FACT_SERIAL', 'PART_NAME', 'EQUIP_NAME',\n",
       "       'Reason', 'Injection_Time', 'Filling_Time', 'Plasticizing_Time',\n",
       "       'Cycle_Time', 'Clamp_Close_Time', 'Cushion_Position',\n",
       "       'Switch_Over_Position', 'Plasticizing_Position', 'Clamp_Open_Position',\n",
       "       'Max_Injection_Speed', 'Max_Screw_RPM', 'Average_Screw_RPM',\n",
       "       'Max_Injection_Pressure', 'Max_Switch_Over_Pressure',\n",
       "       'Max_Back_Pressure', 'Average_Back_Pressure', 'Barrel_Temperature_1',\n",
       "       'Barrel_Temperature_2', 'Barrel_Temperature_3', 'Barrel_Temperature_4',\n",
       "       'Barrel_Temperature_5', 'Barrel_Temperature_6', 'Barrel_Temperature_7',\n",
       "       'Hopper_Temperature', 'Mold_Temperature_1', 'Mold_Temperature_2',\n",
       "       'Mold_Temperature_3', 'Mold_Temperature_4', 'Mold_Temperature_5',\n",
       "       'Mold_Temperature_6', 'Mold_Temperature_7', 'Mold_Temperature_8',\n",
       "       'Mold_Temperature_9', 'Mold_Temperature_10', 'Mold_Temperature_11',\n",
       "       'Mold_Temperature_12', 'ERR_FACT_QTY'],\n",
       "      dtype='object')"
      ]
     },
     "execution_count": 5,
     "metadata": {},
     "output_type": "execute_result"
    }
   ],
   "source": [
    "merged_data.columns"
   ]
  },
  {
   "cell_type": "code",
   "execution_count": 6,
   "metadata": {},
   "outputs": [],
   "source": [
    "summary_dict=dict()\n",
    "for col in merged_data_copy.columns:\n",
    "    if col == 'ERR_FACT_QTY': continue\n",
    "    if merged_data_copy[col].dtype =='object':\n",
    "        tmp = dict(merged_data_copy[col].value_counts())\n",
    "        if len(tmp)>100:\n",
    "            merged_data_copy.drop([col],axis=1, inplace=True)        \n",
    "        else:\n",
    "            output_features_info = dict()            \n",
    "            cnt_features = len(tmp)\n",
    "            eye_mat = np.eye(cnt_features)\n",
    "            for idx, feature in enumerate(tmp.keys()):\n",
    "                output_features_info[feature]=eye_mat[idx]\n",
    "            summary_dict[col]=output_features_info\n",
    "    elif 'Mold_Temperature' in col:\n",
    "        if int(col.split('_')[-1]) > 4:\n",
    "            merged_data_copy.drop([col],axis=1, inplace=True)\n",
    "    else:\n",
    "        merged_data_copy[col] = (merged_data_copy[col]-merged_data_copy[col].mean())/merged_data_copy[col].std()"
   ]
  },
  {
   "cell_type": "code",
   "execution_count": 7,
   "metadata": {},
   "outputs": [
    {
     "data": {
      "text/plain": [
       "dict_keys(['PART_NAME', 'EQUIP_NAME', 'Reason'])"
      ]
     },
     "execution_count": 7,
     "metadata": {},
     "output_type": "execute_result"
    }
   ],
   "source": [
    "summary_dict.keys()"
   ]
  },
  {
   "cell_type": "code",
   "execution_count": 8,
   "metadata": {},
   "outputs": [],
   "source": [
    "merged_data_copy = merged_data_copy.fillna('None')"
   ]
  },
  {
   "cell_type": "code",
   "execution_count": 9,
   "metadata": {},
   "outputs": [
    {
     "data": {
      "text/plain": [
       "None      800487\n",
       "가스            35\n",
       "미성형           15\n",
       "초기허용불량        10\n",
       "Name: Reason, dtype: int64"
      ]
     },
     "execution_count": 9,
     "metadata": {},
     "output_type": "execute_result"
    }
   ],
   "source": [
    "merged_data_copy['Reason'].value_counts()"
   ]
  },
  {
   "cell_type": "code",
   "execution_count": 10,
   "metadata": {},
   "outputs": [
    {
     "data": {
      "text/plain": [
       "{'None': array([1., 0., 0., 0.]),\n",
       " '가스': array([0., 1., 0., 0.]),\n",
       " '미성형': array([0., 0., 1., 0.]),\n",
       " '초기허용불량': array([0., 0., 0., 1.])}"
      ]
     },
     "execution_count": 10,
     "metadata": {},
     "output_type": "execute_result"
    }
   ],
   "source": [
    "summary_dict['Reason']"
   ]
  },
  {
   "cell_type": "code",
   "execution_count": 11,
   "metadata": {},
   "outputs": [
    {
     "name": "stdout",
     "output_type": "stream",
     "text": [
      "PART_NAME\n",
      "EQUIP_NAME\n",
      "Reason\n"
     ]
    }
   ],
   "source": [
    "def func_reason_label(x):\n",
    "    try:\n",
    "        return summary_dict[k][x]\n",
    "    except Exception:\n",
    "        return None\n",
    "for k in summary_dict.keys():\n",
    "    print(k)\n",
    "    merged_data_copy[k+\"_\"]=merged_data_copy[k].apply(func_reason_label)\n",
    "    merged_data_copy.drop([k],axis=1, inplace=True)"
   ]
  },
  {
   "cell_type": "code",
   "execution_count": 12,
   "metadata": {},
   "outputs": [],
   "source": [
    "part_name = merged_data_copy.pop('PART_NAME_')\n",
    "equip_name = merged_data_copy.pop('EQUIP_NAME_')\n",
    "# passorfail = labeled_train.pop('PassOrFail')\n",
    "reason = merged_data_copy.pop('Reason_')\n",
    "err_fact_qty = merged_data_copy.pop('ERR_FACT_QTY')"
   ]
  },
  {
   "cell_type": "code",
   "execution_count": 13,
   "metadata": {},
   "outputs": [],
   "source": [
    "merged_data_copy_np = np.array(merged_data_copy)"
   ]
  },
  {
   "cell_type": "code",
   "execution_count": 14,
   "metadata": {},
   "outputs": [
    {
     "data": {
      "text/plain": [
       "((800547, 29), (800547,), (800547,))"
      ]
     },
     "execution_count": 14,
     "metadata": {},
     "output_type": "execute_result"
    }
   ],
   "source": [
    "merged_data_copy.shape, part_name.shape, equip_name.shape"
   ]
  },
  {
   "cell_type": "code",
   "execution_count": 15,
   "metadata": {},
   "outputs": [],
   "source": [
    "datasets=list()\n",
    "for dt, part, equip in zip(merged_data_copy_np, part_name, equip_name):    \n",
    "    datasets.append(np.hstack([dt, part, equip]))"
   ]
  },
  {
   "cell_type": "code",
   "execution_count": 16,
   "metadata": {},
   "outputs": [],
   "source": [
    "import pickle\n",
    "with open('datasets.pickle', 'wb') as f:\n",
    "    pickle.dump(datasets, f)"
   ]
  },
  {
   "cell_type": "code",
   "execution_count": 17,
   "metadata": {},
   "outputs": [],
   "source": [
    "train_datasets = datasets[:label_len]\n",
    "train_reason = reason[:label_len]\n",
    "train_err_fact_qty = err_fact_qty[:label_len]\n",
    "test_datasets = datasets[label_len:]\n",
    "test_reason = reason[label_len:]\n",
    "test_err_fact_qty = err_fact_qty[label_len:]"
   ]
  },
  {
   "cell_type": "code",
   "execution_count": 18,
   "metadata": {},
   "outputs": [],
   "source": [
    "datasets_analysis = [train_datasets, train_reason, train_err_fact_qty, test_datasets, test_reason, test_err_fact_qty]\n",
    "with open('datasets_analysis.pickle', \"wb\") as f:\n",
    "    pickle.dump(datasets_analysis, f)"
   ]
  },
  {
   "cell_type": "markdown",
   "metadata": {},
   "source": [
    "# AE Vector 생성"
   ]
  },
  {
   "cell_type": "code",
   "execution_count": 19,
   "metadata": {},
   "outputs": [],
   "source": [
    "import torch\n",
    "from torch import nn\n",
    "class Discriminator(nn.Module):\n",
    "    def __init__(self, in_features):\n",
    "        super().__init__()\n",
    "        self.in_features = in_features\n",
    "        self.out_classes = 30\n",
    "        self.down = nn.Sequential(            \n",
    "            self._block_down(self.in_features, self.in_features*2),           \n",
    "            self._block_down(self.in_features*2, self.in_features*2),           \n",
    "            self._block_down(self.in_features*2, self.in_features),           \n",
    "            self._block_down(self.in_features, self.in_features//2),           \n",
    "            self._block_down(self.in_features//2, self.in_features//4),           \n",
    "            self._block_down(self.in_features//4, self.out_classes),                       \n",
    "            # nn.Tanh()\n",
    "        )\n",
    "        self.up = nn.Sequential(\n",
    "            self._block_down(self.out_classes,self.in_features//4),\n",
    "            self._block_down(self.in_features//4,self.in_features//2),\n",
    "            self._block_down(self.in_features//2,self.in_features),\n",
    "            self._block_down(self.in_features,self.in_features*2),\n",
    "            self._block_down(self.in_features*2,self.in_features*2),\n",
    "            self._block_down(self.in_features*2,self.in_features*2),\n",
    "            self._block_down(self.in_features*2,self.in_features),\n",
    "            # nn.Tanh() # 여기만 다시 활성화       효과없음     \n",
    "        )\n",
    "        self.essens=None\n",
    "    \n",
    "    def _block_down(self, in_channels, out_channels):\n",
    "        return nn.Sequential(\n",
    "            nn.Linear(in_channels,out_channels),\n",
    "            nn.Mish(True),\n",
    "            nn.Dropout(0.5)\n",
    "        )\n",
    "    def _block_up(self, in_channels, out_channels):\n",
    "        return nn.Sequential(\n",
    "            nn.Linear(in_channels,out_channels),\n",
    "            nn.Mish(True),\n",
    "            nn.Dropout(0.5)\n",
    "        )\n",
    "    def forward(self, x):\n",
    "        self.essens = self.down(x)\n",
    "        x2 = self.up(self.essens)\n",
    "        return x2\n",
    "    def get_vector(self, x):\n",
    "        self.essens = self.down(x)\n",
    "        return self.essens"
   ]
  },
  {
   "cell_type": "code",
   "execution_count": 20,
   "metadata": {},
   "outputs": [],
   "source": [
    "IN_FEATURES = datasets[0].shape[0]\n",
    "critic = Discriminator(IN_FEATURES).eval()"
   ]
  },
  {
   "cell_type": "code",
   "execution_count": 21,
   "metadata": {},
   "outputs": [],
   "source": [
    "BEST_MODEL_PATH = 'best_model_AE_1_2.pth'\n",
    "critic.load_state_dict(torch.load(BEST_MODEL_PATH))\n",
    "critic = critic.to('cuda')"
   ]
  },
  {
   "cell_type": "code",
   "execution_count": 22,
   "metadata": {},
   "outputs": [],
   "source": [
    "# from tqdm.notebook import tqdm\n",
    "# train set vector getter\n",
    "train_vector=list()\n",
    "for dt in train_datasets:    \n",
    "    ret = critic.get_vector(torch.from_numpy(dt).float().to('cuda'))\n",
    "    ret_ = ret.detach().cpu().numpy()\n",
    "    train_vector.append(ret_)"
   ]
  },
  {
   "cell_type": "code",
   "execution_count": 23,
   "metadata": {},
   "outputs": [],
   "source": [
    "# test set vector getter\n",
    "test_vector=list()\n",
    "for dt in test_datasets:\n",
    "    ret = critic.get_vector(torch.from_numpy(dt).float().to('cuda'))\n",
    "    ret_ = ret.detach().cpu().numpy()\n",
    "    test_vector.append(ret_)"
   ]
  },
  {
   "cell_type": "markdown",
   "metadata": {},
   "source": [
    "## XGBoost"
   ]
  },
  {
   "cell_type": "code",
   "execution_count": 24,
   "metadata": {},
   "outputs": [],
   "source": [
    "train_reason_pre = list()\n",
    "for y in train_reason:\n",
    "    if y.argmax()==0:\n",
    "        train_reason_pre.append(0)\n",
    "    else:\n",
    "        train_reason_pre.append(1)"
   ]
  },
  {
   "cell_type": "code",
   "execution_count": 25,
   "metadata": {},
   "outputs": [],
   "source": [
    "X_train, X_test, y_train, y_test = train_test_split(train_vector,train_reason_pre,test_size=0.2)"
   ]
  },
  {
   "cell_type": "code",
   "execution_count": 26,
   "metadata": {},
   "outputs": [],
   "source": [
    "model_xg = XGBClassifier()"
   ]
  },
  {
   "cell_type": "code",
   "execution_count": 27,
   "metadata": {},
   "outputs": [
    {
     "name": "stderr",
     "output_type": "stream",
     "text": [
      "/home/hans/VENV/torch/lib/python3.8/site-packages/xgboost/sklearn.py:1224: UserWarning: The use of label encoder in XGBClassifier is deprecated and will be removed in a future release. To remove this warning, do the following: 1) Pass option use_label_encoder=False when constructing XGBClassifier object; and 2) Encode your labels (y) as integers starting with 0, i.e. 0, 1, 2, ..., [num_class - 1].\n",
      "  warnings.warn(label_encoder_deprecation_msg, UserWarning)\n"
     ]
    },
    {
     "name": "stdout",
     "output_type": "stream",
     "text": [
      "[18:11:55] WARNING: ../src/learner.cc:1115: Starting in XGBoost 1.3.0, the default evaluation metric used with the objective 'binary:logistic' was changed from 'error' to 'logloss'. Explicitly set eval_metric if you'd like to restore the old behavior.\n"
     ]
    },
    {
     "data": {
      "text/plain": [
       "XGBClassifier(base_score=0.5, booster='gbtree', colsample_bylevel=1,\n",
       "              colsample_bynode=1, colsample_bytree=1, enable_categorical=False,\n",
       "              gamma=0, gpu_id=-1, importance_type=None,\n",
       "              interaction_constraints='', learning_rate=0.300000012,\n",
       "              max_delta_step=0, max_depth=6, min_child_weight=1, missing=nan,\n",
       "              monotone_constraints='()', n_estimators=100, n_jobs=6,\n",
       "              num_parallel_tree=1, predictor='auto', random_state=0,\n",
       "              reg_alpha=0, reg_lambda=1, scale_pos_weight=1, subsample=1,\n",
       "              tree_method='exact', validate_parameters=1, verbosity=None)"
      ]
     },
     "execution_count": 27,
     "metadata": {},
     "output_type": "execute_result"
    }
   ],
   "source": [
    "model_xg.fit(X_train, y_train)"
   ]
  },
  {
   "cell_type": "code",
   "execution_count": 28,
   "metadata": {},
   "outputs": [
    {
     "data": {
      "text/plain": [
       "<AxesSubplot:title={'center':'Feature importance'}, xlabel='F score', ylabel='Features'>"
      ]
     },
     "execution_count": 28,
     "metadata": {},
     "output_type": "execute_result"
    },
    {
     "data": {
      "image/png": "[encoded data removed]",
      "text/plain": [
       "<Figure size 432x288 with 1 Axes>"
      ]
     },
     "metadata": {
      "needs_background": "light"
     },
     "output_type": "display_data"
    }
   ],
   "source": [
    "from xgboost import plot_importance # 중요변수 시각화\n",
    "from sklearn.model_selection import train_test_split\n",
    "from sklearn.metrics import mean_squared_error\n",
    "plot_importance(model_xg)"
   ]
  },
  {
   "cell_type": "code",
   "execution_count": 29,
   "metadata": {},
   "outputs": [],
   "source": [
    "pred_y = model_xg.predict(X_test)"
   ]
  },
  {
   "cell_type": "code",
   "execution_count": 30,
   "metadata": {},
   "outputs": [
    {
     "data": {
      "text/plain": [
       "0.017191977077363897"
      ]
     },
     "execution_count": 30,
     "metadata": {},
     "output_type": "execute_result"
    }
   ],
   "source": [
    "mean_squared_error(y_test,pred_y)"
   ]
  },
  {
   "cell_type": "code",
   "execution_count": 31,
   "metadata": {},
   "outputs": [
    {
     "data": {
      "text/plain": [
       "0.9828080229226361"
      ]
     },
     "execution_count": 31,
     "metadata": {},
     "output_type": "execute_result"
    }
   ],
   "source": [
    "np.sum(y_test==pred_y)/len(y_test)"
   ]
  },
  {
   "cell_type": "code",
   "execution_count": 32,
   "metadata": {},
   "outputs": [
    {
     "name": "stdout",
     "output_type": "stream",
     "text": [
      "              precision    recall  f1-score   support\n",
      "\n",
      "           0       0.99      1.00      0.99      1032\n",
      "           1       0.20      0.07      0.10        15\n",
      "\n",
      "    accuracy                           0.98      1047\n",
      "   macro avg       0.59      0.53      0.55      1047\n",
      "weighted avg       0.98      0.98      0.98      1047\n",
      "\n"
     ]
    }
   ],
   "source": [
    "from sklearn.metrics import classification_report\n",
    "print(classification_report(y_test,pred_y))"
   ]
  },
  {
   "cell_type": "code",
   "execution_count": 33,
   "metadata": {},
   "outputs": [],
   "source": [
    "df = pd.DataFrame(y_test)"
   ]
  },
  {
   "cell_type": "code",
   "execution_count": 34,
   "metadata": {},
   "outputs": [
    {
     "data": {
      "text/plain": [
       "0    1032\n",
       "1      15\n",
       "dtype: int64"
      ]
     },
     "execution_count": 34,
     "metadata": {},
     "output_type": "execute_result"
    }
   ],
   "source": [
    "df.value_counts()"
   ]
  },
  {
   "cell_type": "code",
   "execution_count": 35,
   "metadata": {},
   "outputs": [],
   "source": [
    "from sklearn.ensemble import RandomForestClassifier\n",
    "model_rf = RandomForestClassifier(criterion='entropy')"
   ]
  },
  {
   "cell_type": "code",
   "execution_count": 36,
   "metadata": {},
   "outputs": [
    {
     "data": {
      "text/plain": [
       "RandomForestClassifier(criterion='entropy')"
      ]
     },
     "execution_count": 36,
     "metadata": {},
     "output_type": "execute_result"
    }
   ],
   "source": [
    "model_rf.fit(X_train, y_train)"
   ]
  },
  {
   "cell_type": "code",
   "execution_count": 37,
   "metadata": {},
   "outputs": [],
   "source": [
    "pred_y = model_rf.predict(X_test)"
   ]
  },
  {
   "cell_type": "code",
   "execution_count": 38,
   "metadata": {},
   "outputs": [
    {
     "data": {
      "text/plain": [
       "0.015281757402101241"
      ]
     },
     "execution_count": 38,
     "metadata": {},
     "output_type": "execute_result"
    }
   ],
   "source": [
    "mean_squared_error(y_test,pred_y)"
   ]
  },
  {
   "cell_type": "code",
   "execution_count": 39,
   "metadata": {},
   "outputs": [
    {
     "data": {
      "text/plain": [
       "0.9847182425978988"
      ]
     },
     "execution_count": 39,
     "metadata": {},
     "output_type": "execute_result"
    }
   ],
   "source": [
    "np.sum(y_test==pred_y)/len(y_test)"
   ]
  },
  {
   "cell_type": "code",
   "execution_count": 40,
   "metadata": {},
   "outputs": [
    {
     "name": "stdout",
     "output_type": "stream",
     "text": [
      "              precision    recall  f1-score   support\n",
      "\n",
      "           0       0.99      1.00      0.99      1032\n",
      "           1       0.33      0.07      0.11        15\n",
      "\n",
      "    accuracy                           0.98      1047\n",
      "   macro avg       0.66      0.53      0.55      1047\n",
      "weighted avg       0.98      0.98      0.98      1047\n",
      "\n"
     ]
    }
   ],
   "source": [
    "print(classification_report(y_test,pred_y))"
   ]
  },
  {
   "cell_type": "code",
   "execution_count": 41,
   "metadata": {},
   "outputs": [],
   "source": [
    "from lightgbm import LGBMClassifier"
   ]
  },
  {
   "cell_type": "code",
   "execution_count": 53,
   "metadata": {},
   "outputs": [],
   "source": [
    "model_lgb = LGBMClassifier(boosting_type='goss')"
   ]
  },
  {
   "cell_type": "code",
   "execution_count": 54,
   "metadata": {},
   "outputs": [
    {
     "data": {
      "text/plain": [
       "LGBMClassifier(boosting_type='goss')"
      ]
     },
     "execution_count": 54,
     "metadata": {},
     "output_type": "execute_result"
    }
   ],
   "source": [
    "model_lgb.fit(X_train, y_train)"
   ]
  },
  {
   "cell_type": "code",
   "execution_count": 55,
   "metadata": {},
   "outputs": [],
   "source": [
    "pred_y = model_lgb.predict(X_test)\n"
   ]
  },
  {
   "cell_type": "code",
   "execution_count": 56,
   "metadata": {},
   "outputs": [
    {
     "data": {
      "text/plain": [
       "0.02005730659025788"
      ]
     },
     "execution_count": 56,
     "metadata": {},
     "output_type": "execute_result"
    }
   ],
   "source": [
    "mean_squared_error(y_test,pred_y)\n"
   ]
  },
  {
   "cell_type": "code",
   "execution_count": 57,
   "metadata": {},
   "outputs": [
    {
     "name": "stdout",
     "output_type": "stream",
     "text": [
      "              precision    recall  f1-score   support\n",
      "\n",
      "           0       0.99      0.99      0.99      1032\n",
      "           1       0.00      0.00      0.00        15\n",
      "\n",
      "    accuracy                           0.98      1047\n",
      "   macro avg       0.49      0.50      0.49      1047\n",
      "weighted avg       0.97      0.98      0.98      1047\n",
      "\n"
     ]
    }
   ],
   "source": [
    "print(classification_report(y_test,pred_y))\n"
   ]
  },
  {
   "cell_type": "code",
   "execution_count": null,
   "metadata": {},
   "outputs": [],
   "source": []
  }
 ],
 "metadata": {
  "interpreter": {
   "hash": "33b0c032e04388c0be1572b4c64e4f6e2fa9cda7ba5f9f285430d52a126a80b7"
  },
  "kernelspec": {
   "display_name": "Python 3.8.10 64-bit ('datavenv': venv)",
   "language": "python",
   "name": "python3"
  },
  "language_info": {
   "codemirror_mode": {
    "name": "ipython",
    "version": 3
   },
   "file_extension": ".py",
   "mimetype": "text/x-python",
   "name": "python",
   "nbconvert_exporter": "python",
   "pygments_lexer": "ipython3",
   "version": "3.8.10"
  },
  "orig_nbformat": 4
 },
 "nbformat": 4,
 "nbformat_minor": 2
}

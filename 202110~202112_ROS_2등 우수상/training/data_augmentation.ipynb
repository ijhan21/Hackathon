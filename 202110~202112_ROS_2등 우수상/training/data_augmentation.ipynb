{
 "cells": [
  {
   "cell_type": "code",
   "execution_count": 1,
   "metadata": {},
   "outputs": [],
   "source": [
    "import cv2\n",
    "import os\n",
    "\n",
    "SOURCE_PATH_LEFT = 'pre_test_data/left/'\n",
    "SOURCE_PATH_RIGHT = 'pre_test_data/right/'"
   ]
  },
  {
   "cell_type": "code",
   "execution_count": 2,
   "metadata": {},
   "outputs": [],
   "source": [
    "path = SOURCE_PATH_LEFT\n",
    "target_path = SOURCE_PATH_RIGHT\n",
    "file_names = os.listdir(path)\n",
    "for file_name in file_names:\n",
    "    if file_name[0]=='f':continue\n",
    "    img = cv2.imread(os.path.join(path, file_name))\n",
    "    ret = cv2.flip(img, 1)\n",
    "    cv2.imwrite(target_path+\"flip_\"+file_name, ret)"
   ]
  },
  {
   "cell_type": "code",
   "execution_count": 3,
   "metadata": {},
   "outputs": [],
   "source": [
    "path = SOURCE_PATH_RIGHT\n",
    "target_path = SOURCE_PATH_LEFT\n",
    "file_names = os.listdir(path)\n",
    "for file_name in file_names:\n",
    "    if file_name[0]=='f':continue\n",
    "    img = cv2.imread(os.path.join(path, file_name))\n",
    "    ret = cv2.flip(img, 1)\n",
    "    cv2.imwrite(target_path+\"flip_\"+file_name, ret)"
   ]
  },
  {
   "cell_type": "code",
   "execution_count": null,
   "metadata": {},
   "outputs": [],
   "source": []
  }
 ],
 "metadata": {
  "interpreter": {
   "hash": "9307834ef4db415b79a581390e89b9869bb0225797b37023425526a129547564"
  },
  "kernelspec": {
   "display_name": "Python 3.8.10 64-bit ('torch': venv)",
   "language": "python",
   "name": "python3"
  },
  "language_info": {
   "codemirror_mode": {
    "name": "ipython",
    "version": 3
   },
   "file_extension": ".py",
   "mimetype": "text/x-python",
   "name": "python",
   "nbconvert_exporter": "python",
   "pygments_lexer": "ipython3",
   "version": "3.8.10"
  },
  "orig_nbformat": 4
 },
 "nbformat": 4,
 "nbformat_minor": 2
}

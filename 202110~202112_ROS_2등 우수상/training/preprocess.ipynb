{
 "cells": [
  {
   "cell_type": "code",
   "execution_count": 1,
   "metadata": {},
   "outputs": [],
   "source": [
    "import os\n",
    "import numpy as np\n",
    "import cv2\n",
    "import torch\n",
    "import torchvision\n",
    "import matplotlib.pylab as plt\n",
    "import shutil\n",
    "\n",
    "DATAS_DOWN_PATH='./output_down_camera/'\n",
    "TARGET_FORWARD = './pre_test_data/forward/'\n",
    "TARGET_LEFT = './pre_test_data/left/'\n",
    "TARGET_RIGHT = './pre_test_data/right/'"
   ]
  },
  {
   "cell_type": "code",
   "execution_count": 2,
   "metadata": {},
   "outputs": [],
   "source": [
    "donw_list = os.listdir(DATAS_DOWN_PATH)"
   ]
  },
  {
   "cell_type": "code",
   "execution_count": 3,
   "metadata": {},
   "outputs": [],
   "source": [
    "dataset=list()\n",
    "train_list=donw_list\n",
    "PATH = DATAS_DOWN_PATH\n",
    "# 0.4~ 0.6 / ~0.4 / 0.6~\n",
    "CLASSES_NUM = 4 # go, left, right, people\n",
    "for file_name in train_list:\n",
    "    if file_name[-4:] != '.png':continue    \n",
    "    x = float(file_name.split('_')[1])\n",
    "    if x >0.45 and x <0.55:\n",
    "        shutil.copyfile(DATAS_DOWN_PATH+file_name, TARGET_FORWARD+file_name)        \n",
    "    elif x <= 0.45:\n",
    "        shutil.copyfile(DATAS_DOWN_PATH+file_name, TARGET_LEFT+file_name)                \n",
    "        img = cv2.imread(DATAS_DOWN_PATH+file_name)\n",
    "        img = cv2.flip(img, 1)\n",
    "        cv2.imwrite(TARGET_RIGHT+file_name, img)\n",
    "    else:\n",
    "        shutil.copyfile(DATAS_DOWN_PATH+file_name, TARGET_RIGHT+file_name)        \n",
    "        img = cv2.imread(DATAS_DOWN_PATH+file_name)\n",
    "        img = cv2.flip(img, 1)\n",
    "        cv2.imwrite(TARGET_LEFT+file_name, img)"
   ]
  },
  {
   "cell_type": "code",
   "execution_count": null,
   "metadata": {},
   "outputs": [],
   "source": []
  }
 ],
 "metadata": {
  "interpreter": {
   "hash": "9307834ef4db415b79a581390e89b9869bb0225797b37023425526a129547564"
  },
  "kernelspec": {
   "display_name": "Python 3.8.10 64-bit ('torch': venv)",
   "language": "python",
   "name": "python3"
  },
  "language_info": {
   "codemirror_mode": {
    "name": "ipython",
    "version": 3
   },
   "file_extension": ".py",
   "mimetype": "text/x-python",
   "name": "python",
   "nbconvert_exporter": "python",
   "pygments_lexer": "ipython3",
   "version": "3.8.10"
  },
  "orig_nbformat": 4
 },
 "nbformat": 4,
 "nbformat_minor": 2
}

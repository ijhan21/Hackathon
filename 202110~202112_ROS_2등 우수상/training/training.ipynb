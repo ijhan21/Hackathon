{
 "cells": [
  {
   "cell_type": "code",
   "execution_count": 1,
   "metadata": {},
   "outputs": [],
   "source": [
    "import os\n",
    "import numpy as np\n",
    "import cv2\n",
    "from torchvision import models\n",
    "DATAS_UP_PATH='./output_up_camera/'\n",
    "DATAS_DOWN_PATH='./output_down_camera/'"
   ]
  },
  {
   "cell_type": "code",
   "execution_count": 2,
   "metadata": {},
   "outputs": [],
   "source": [
    "up_list = os.listdir(DATAS_UP_PATH)\n",
    "donw_list = os.listdir(DATAS_DOWN_PATH)"
   ]
  },
  {
   "cell_type": "code",
   "execution_count": 3,
   "metadata": {},
   "outputs": [],
   "source": [
    "# follow / to_position / line_num / loaded /// position_bool / people / x / y + filename\n",
    "dataset=list()\n",
    "for i in range(len(up_list)):\n",
    "    if up_list[i][-4:] != '.jpg':continue\n",
    "    follow, to_position, line_num, loaded, position_bool, people = up_list[i].split('_')[0]\n",
    "    x = up_list[i].split('_')[1]\n",
    "    y = up_list[i].split('_')[2]\n",
    "    follow, to_position, line_num, loaded, position_bool, people = float(follow), float(to_position), float(line_num), float(loaded), float(position_bool), float(people)\n",
    "    x, y = float(x), float(y)\n",
    "    img_up = cv2.imread(DATAS_UP_PATH+up_list[0]).reshape(3,224,224)\n",
    "    img_down = cv2.imread(DATAS_DOWN_PATH+up_list[0]).reshape(3,224,224)\n",
    "    input_data = (follow, to_position, line_num, loaded, img_up, img_down)\n",
    "    input_label = (position_bool, people, x, y)\n",
    "    dataset.append((input_data, input_label))\n"
   ]
  },
  {
   "cell_type": "code",
   "execution_count": 4,
   "metadata": {},
   "outputs": [],
   "source": [
    "import torch\n",
    "BATCH_SIZE = 32\n",
    "TEST_RATE = 0.2\n",
    "TEST_SET_NUM = int(len(dataset)*TEST_RATE)\n",
    "train_dataset, test_dataset = torch.utils.data.random_split(dataset, [len(dataset) - TEST_SET_NUM, TEST_SET_NUM])"
   ]
  },
  {
   "cell_type": "code",
   "execution_count": 5,
   "metadata": {},
   "outputs": [],
   "source": [
    "train_loader = torch.utils.data.DataLoader(\n",
    "    train_dataset,\n",
    "    batch_size=BATCH_SIZE,\n",
    "    shuffle=True,\n",
    "    num_workers=4\n",
    ")\n",
    "\n",
    "test_loader = torch.utils.data.DataLoader(\n",
    "    test_dataset,\n",
    "    batch_size=BATCH_SIZE,\n",
    "    shuffle=True,\n",
    "    num_workers=4\n",
    ")"
   ]
  },
  {
   "cell_type": "code",
   "execution_count": 17,
   "metadata": {},
   "outputs": [],
   "source": [
    "class AutoDrive(torch.nn.Module):\n",
    "    def __init__(self):\n",
    "        super().__init__()\n",
    "        self.output_classes=4 # position_bool, people, x, y\n",
    "        self.unit_output = 100\n",
    "        self.model_up = self.making_transfer_model()\n",
    "        self.model_down = self.making_transfer_model()\n",
    "        self.determine_model = torch.nn.Sequential(\n",
    "            torch.nn.Dropout(p=0.5, inplace=True),\n",
    "            torch.nn.Linear(in_features=204, out_features=self.output_classes, bias=True),\n",
    "            torch.nn.Softmax()\n",
    "        )\n",
    "    \n",
    "    def making_transfer_model(self):\n",
    "        model = models.efficientnet_b7(pretrained=True)\n",
    "        model.classifier=torch.nn.Sequential(\n",
    "            torch.nn.Dropout(p=0.5, inplace=True),\n",
    "            torch.nn.Linear(in_features=2560, out_features=self.unit_output, bias=True),\n",
    "            torch.nn.Mish(),\n",
    "        )\n",
    "        return model\n",
    "\n",
    "    def forward(self, follow, to_position, line_num, loaded, up_img, down_img): # follow / to_position / line_num / loaded\n",
    "        # up_img = torch.from_numpy(up_img).float()\n",
    "        # down_img = torch.from_numpy(down_img).float()\n",
    "        x_up = self.model_up(up_img)\n",
    "        print(\"check\")\n",
    "        x_down = self.model_up(down_img)\n",
    "        x = torch.cat([follow,to_position, line_num, loaded, x_up, x_down], dim=-1)\n",
    "        x = self.determine_model(x)\n",
    "        return x\n"
   ]
  },
  {
   "cell_type": "code",
   "execution_count": 18,
   "metadata": {},
   "outputs": [],
   "source": [
    "auto = AutoDrive()"
   ]
  },
  {
   "cell_type": "code",
   "execution_count": null,
   "metadata": {},
   "outputs": [],
   "source": [
    "for (follow, to_position, line_num, loaded, up_img, down_img),(position_bool, people, x, y) in train_loader:\n",
    "    print(up_img.shape)\n",
    "    out = auto(follow, to_position, line_num, loaded, up_img.float(), down_img.float())\n",
    "    print(out)\n",
    "    break"
   ]
  },
  {
   "cell_type": "code",
   "execution_count": null,
   "metadata": {},
   "outputs": [],
   "source": []
  }
 ],
 "metadata": {
  "interpreter": {
   "hash": "33b0c032e04388c0be1572b4c64e4f6e2fa9cda7ba5f9f285430d52a126a80b7"
  },
  "kernelspec": {
   "display_name": "Python 3.8.10 64-bit ('datavenv': venv)",
   "language": "python",
   "name": "python3"
  },
  "language_info": {
   "codemirror_mode": {
    "name": "ipython",
    "version": 3
   },
   "file_extension": ".py",
   "mimetype": "text/x-python",
   "name": "python",
   "nbconvert_exporter": "python",
   "pygments_lexer": "ipython3",
   "version": "3.8.10"
  },
  "orig_nbformat": 4
 },
 "nbformat": 4,
 "nbformat_minor": 2
}

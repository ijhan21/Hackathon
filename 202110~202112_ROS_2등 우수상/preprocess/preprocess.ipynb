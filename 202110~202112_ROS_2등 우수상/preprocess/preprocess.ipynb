{
 "cells": [
  {
   "cell_type": "code",
   "execution_count": 1,
   "metadata": {},
   "outputs": [
    {
     "data": {
      "application/vnd.jupyter.widget-view+json": {
       "model_id": "135387397a064e618a7e7b7ec08ecb58",
       "version_major": 2,
       "version_minor": 0
      },
      "text/plain": [
       "interactive(children=(Checkbox(value=False, description='follow'), Checkbox(value=False, description='to_posit…"
      ]
     },
     "metadata": {},
     "output_type": "display_data"
    },
    {
     "data": {
      "text/plain": [
       "<function __main__.display_xy(follow, to_position, line_num, loaded, position_bool, people, x, y, save_bool, next)>"
      ]
     },
     "execution_count": 1,
     "metadata": {},
     "output_type": "execute_result"
    }
   ],
   "source": [
    "import ipywidgets.widgets as widgets\n",
    "from ipywidgets import interact, Button\n",
    "from IPython.display import display\n",
    "import cv2\n",
    "import numpy as np\n",
    "import matplotlib.pyplot as plt\n",
    "import os\n",
    "# 두 폴더에서 파일 리스트 불러오기\n",
    "# 이미지 로딩 - 둘다\n",
    "# x,y 값 조정\n",
    "# follow / to_position / line_num / loaded\n",
    "# position_bool / people / x / y\n",
    "# 파일 이름 변경해서 각각의 아웃풋 폴더에 저장\n",
    "# follow / to_position / line_num / loaded /// position_bool / people / x / y + filename\n",
    "\n",
    "UP_CAMERA='./up_camera/'\n",
    "DOWN_CAMERA='./down_camera/'\n",
    "OUTPUT_UP_CAMERA='./up_camera_cheahyun/'\n",
    "OUTPUT_DOWN_CAMERA='./down_camera_cheahyun/'\n",
    "\n",
    "x_slider = widgets.FloatSlider(value=0.5,min=0., max=1, step=0.01, description='x')\n",
    "y_slider = widgets.FloatSlider(value=0.5,min=0., max=1, step=0.01, description='y')\n",
    "pre_save_bool=False\n",
    "pre_next=False\n",
    "count = 0\n",
    "def display_xy(follow, to_position, line_num, loaded, position_bool, people, x, y, save_bool, next):\n",
    "    global pre_save_bool, count, pre_next\n",
    "    # 파일 로딩\n",
    "    down_cam_list = os.listdir('down_camera')\n",
    "    up_cam_list = os.listdir('up_camera')\n",
    "    try:\n",
    "        name = down_cam_list[count]\n",
    "    except UnboundLocalError as e:\n",
    "        print(\"종료\")\n",
    "        return\n",
    "    \n",
    "    down_cam_image = cv2.imread(DOWN_CAMERA+name)\n",
    "    up_cam_image = cv2.imread(UP_CAMERA+name)\n",
    "\n",
    "    down_image = np.copy(down_cam_image)        \n",
    "    up_image = np.copy(up_cam_image)        \n",
    "    xx = int(x * 224)\n",
    "    yy = 224-int(y * 224 / 2 + 56)\n",
    "    down_image = cv2.circle(down_image, (xx, yy), 8, (0, 255, 0), 3)\n",
    "    down_image = cv2.circle(down_image, (112, 224), 8, (0, 0,255), 3)\n",
    "    down_image = cv2.line(down_image, (xx,yy), (112,224), (255,0,0), 3)\n",
    "    down_imgRGB = cv2.cvtColor(down_image, cv2.COLOR_BGR2RGB)\n",
    "    up_image = cv2.circle(up_image, (xx, yy), 8, (0, 255, 0), 3)\n",
    "    up_image = cv2.circle(up_image, (112, 224), 8, (0, 0,255), 3)\n",
    "    up_image = cv2.line(up_image, (xx,yy), (112,224), (255,0,0), 3)\n",
    "    up_imgRGB = cv2.cvtColor(up_image, cv2.COLOR_BGR2RGB)\n",
    "    img_for_show = cv2.hconcat([up_image,down_image])\n",
    "    plt.axis('off') # 창에있는 x축 y축 제거\n",
    "    plt.imshow(img_for_show)\n",
    "    if pre_save_bool != save_bool:\n",
    "        up_imgBGR = cv2.cvtColor(up_imgRGB, cv2.COLOR_RGB2BGR)\n",
    "        file_name = f\"{int(follow)}{int(to_position)}{int(line_num)}{int(loaded)}{int(position_bool)}{int(people)}_{x}_{y}_{name}\"\n",
    "        cv2.imwrite(OUTPUT_UP_CAMERA+file_name+'.jpg',up_cam_image)\n",
    "        cv2.imwrite(OUTPUT_DOWN_CAMERA+file_name+'.jpg',down_cam_image)\n",
    "    pre_save_bool = save_bool\n",
    "    if pre_next != next:\n",
    "        count+=1      \n",
    "        if count == len(up_cam_list):\n",
    "            print(\"파일 끝/새로시작\")\n",
    "            count = 0\n",
    "    pre_next = next\n",
    "interact(display_xy,follow=False, to_position=False, line_num=False, loaded=False, position_bool=False, people=False, x=x_slider, y=y_slider, save_bool=False, next=False)"
   ]
  },
  {
   "cell_type": "code",
   "execution_count": null,
   "metadata": {},
   "outputs": [],
   "source": []
  }
 ],
 "metadata": {
  "interpreter": {
   "hash": "33b0c032e04388c0be1572b4c64e4f6e2fa9cda7ba5f9f285430d52a126a80b7"
  },
  "kernelspec": {
   "display_name": "Python 3 (ipykernel)",
   "language": "python",
   "name": "python3"
  },
  "language_info": {
   "codemirror_mode": {
    "name": "ipython",
    "version": 3
   },
   "file_extension": ".py",
   "mimetype": "text/x-python",
   "name": "python",
   "nbconvert_exporter": "python",
   "pygments_lexer": "ipython3",
   "version": "3.8.10"
  }
 },
 "nbformat": 4,
 "nbformat_minor": 2
}

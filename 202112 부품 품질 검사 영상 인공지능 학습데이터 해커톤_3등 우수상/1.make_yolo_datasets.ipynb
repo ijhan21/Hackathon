{
 "cells": [
  {
   "cell_type": "code",
   "execution_count": 1,
   "metadata": {},
   "outputs": [],
   "source": [
    "import os\n",
    "import cv2\n",
    "import numpy as np\n",
    "import json\n",
    "import pickle\n",
    "import shutil\n",
    "from tqdm import tqdm\n",
    "from glob import glob"
   ]
  },
  {
   "cell_type": "code",
   "execution_count": 2,
   "metadata": {},
   "outputs": [],
   "source": [
    "\n",
    "PATH_ALL = ['../선박·해양플랜트/모재/불량품/','../자동차/도어/불량품/','../자동차/휀더/불량품/','../자동차/범퍼/불량품/']\n",
    "SIZE = 640"
   ]
  },
  {
   "cell_type": "code",
   "execution_count": 3,
   "metadata": {},
   "outputs": [
    {
     "name": "stderr",
     "output_type": "stream",
     "text": [
      "100%|██████████| 1670/1670 [01:06<00:00, 25.12it/s]\n",
      " 62%|██████▏   | 802/1290 [00:48<00:15, 32.43it/s]"
     ]
    }
   ],
   "source": [
    "for PATH in PATH_ALL:\n",
    "    file_list = glob(PATH+'*.*')\n",
    "    for file_path in tqdm(file_list):\n",
    "        file_name = file_path.split('/')[-1]\n",
    "        if file_name.split('.')[-1].lower() in ['jpg', 'jpeg', 'png']:\n",
    "            json_name = file_name.split('.')[0]+\".json\"\n",
    "            with open(PATH+json_name, \"r\",encoding='utf-8-sig') as f:\n",
    "                tmp = json.load(f)\n",
    "            WIDTH = tmp['images'][0]['width']\n",
    "            HEIGHT = tmp['images'][0]['height']\n",
    "            \n",
    "            annotations_data = tmp['annotations']      \n",
    "            if len(annotations_data) ==0: continue\n",
    "            for annotation in annotations_data:\n",
    "                x, y, w, h = annotation['bbox']    \n",
    "                x, y, w, h = x/WIDTH, y/HEIGHT, w/WIDTH, h/HEIGHT\n",
    "                with open('./datasets/export/labels/'+file_name.split('.')[0]+'.txt', 'a') as f:\n",
    "                    f.write(f\"0 {x} {y} {w} {h}\\n\")\n",
    "            img = cv2.imread(file_path)\n",
    "            img_resize = cv2.resize(img, (SIZE,SIZE))\n",
    "            cv2.imwrite('./datasets/export/images/'+file_name,img_resize)\n",
    "            # shutil.copy(file_path,'./datasets/images/'+file_name)       "
   ]
  }
 ],
 "metadata": {
  "interpreter": {
   "hash": "59b807c8e71eea35cddd73797a319c46f6da58d130705c0b1685d9f316ed1341"
  },
  "kernelspec": {
   "display_name": "Python 3.7.10 64-bit ('torch': venv)",
   "language": "python",
   "name": "python3"
  },
  "language_info": {
   "codemirror_mode": {
    "name": "ipython",
    "version": 3
   },
   "file_extension": ".py",
   "mimetype": "text/x-python",
   "name": "python",
   "nbconvert_exporter": "python",
   "pygments_lexer": "ipython3",
   "version": "3.7.10"
  },
  "orig_nbformat": 4
 },
 "nbformat": 4,
 "nbformat_minor": 2
}

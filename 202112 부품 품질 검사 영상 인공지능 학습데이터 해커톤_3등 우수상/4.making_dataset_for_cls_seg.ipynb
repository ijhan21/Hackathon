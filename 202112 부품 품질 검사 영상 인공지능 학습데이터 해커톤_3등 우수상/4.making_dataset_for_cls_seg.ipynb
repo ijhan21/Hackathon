{
 "cells": [
  {
   "cell_type": "code",
   "execution_count": 1,
   "metadata": {},
   "outputs": [],
   "source": [
    "import cv2\n",
    "import os\n",
    "from glob import glob\n",
    "from tqdm.notebook import tqdm\n",
    "import json\n",
    "from random import sample\n",
    "import matplotlib.pyplot as plt\n",
    "import numpy as np\n",
    "import random\n",
    "import pickle\n",
    "import torch"
   ]
  },
  {
   "cell_type": "code",
   "execution_count": 2,
   "metadata": {},
   "outputs": [],
   "source": [
    "# 이미지 받고, w, h 확인\n",
    "# 바운딩 박스 정보 받기\n",
    "# 긴 쪽 길이 확인\n",
    "# 긴 쪽 10% 더 붙이고 다른쪽 비율 확인\n",
    "# 옮기면서 데이터 셋 만들기\n",
    "\n",
    "# 겹쳐지지 않는 영역에서 이미지 뽑기\n",
    "\n",
    "# 정상 이미지 데이터, 불량 이미지 데이터 분류\n",
    "# 사이즈 224로 변경\n",
    "# 모델 로딩\n",
    "# 학습\n",
    "# 적중률 확인\n",
    "\n",
    "# 불량 이미지 셋은 따로 저장\n",
    "# 이후에 세그멘 테이션 적용\n"
   ]
  },
  {
   "cell_type": "code",
   "execution_count": 3,
   "metadata": {},
   "outputs": [
    {
     "data": {
      "application/vnd.jupyter.widget-view+json": {
       "model_id": "7c6fcafb001e463681eb6d33c16be572",
       "version_major": 2,
       "version_minor": 0
      },
      "text/plain": [
       "  0%|          | 0/1670 [00:00<?, ?it/s]"
      ]
     },
     "metadata": {},
     "output_type": "display_data"
    },
    {
     "data": {
      "application/vnd.jupyter.widget-view+json": {
       "model_id": "57a34477dd2846c7b00c2d9c1351285c",
       "version_major": 2,
       "version_minor": 0
      },
      "text/plain": [
       "  0%|          | 0/1290 [00:00<?, ?it/s]"
      ]
     },
     "metadata": {},
     "output_type": "display_data"
    },
    {
     "data": {
      "application/vnd.jupyter.widget-view+json": {
       "model_id": "8492915564524b18b0e71eb8d1cc8b40",
       "version_major": 2,
       "version_minor": 0
      },
      "text/plain": [
       "  0%|          | 0/1944 [00:00<?, ?it/s]"
      ]
     },
     "metadata": {},
     "output_type": "display_data"
    },
    {
     "data": {
      "application/vnd.jupyter.widget-view+json": {
       "model_id": "d9ff891dace74aac9c4c4449b44bb4b0",
       "version_major": 2,
       "version_minor": 0
      },
      "text/plain": [
       "  0%|          | 0/1239 [00:00<?, ?it/s]"
      ]
     },
     "metadata": {},
     "output_type": "display_data"
    }
   ],
   "source": [
    "SIZE = 224\n",
    "CHOISE_NUM = 10\n",
    "MARGIN = 10\n",
    "datasets = list()\n",
    "PATH_ALL = ['../선박·해양플랜트/모재/불량품/','../자동차/도어/불량품/','../자동차/휀더/불량품/','../자동차/범퍼/불량품/']\n",
    "PATH_OK_ALL = ['../선박·해양플랜트/모재/양품/','../자동차/도어/양품/','../자동차/휀더/양품/','../자동차/범퍼/양품/']\n",
    "for PATH, PATH_OK in zip(PATH_ALL, PATH_OK_ALL):\n",
    "    file_list = glob(PATH+'*.*')\n",
    "    file_list_ok = glob(PATH_OK+'*.jpg')+glob(PATH_OK+'*.jpeg')+glob(PATH_OK+'*.JPG')+glob(PATH_OK+'*.JPEG')\n",
    "    for file_path in tqdm(file_list):\n",
    "        file_name = file_path.split('/')[-1]\n",
    "        if file_name.split('.')[-1].lower() in ['jpg', 'jpeg', 'png']:\n",
    "            json_name = file_name.split('.')[0]+\".json\"\n",
    "            with open(PATH+json_name, \"r\",encoding='utf-8-sig') as f:\n",
    "                tmp = json.load(f)\n",
    "            WIDTH = tmp['images'][0]['width']\n",
    "            HEIGHT = tmp['images'][0]['height']\n",
    "            img = cv2.imread(file_path)\n",
    "            HEIGHT, WIDTH, CHANNEL = img.shape\n",
    "            count = 0\n",
    "            FLAG = False\n",
    "            while True:\n",
    "                file_ok_path = random.choice(file_list_ok)\n",
    "                img_ok = cv2.imread(file_ok_path)\n",
    "                if img.shape == img_ok.shape:\n",
    "                    break\n",
    "                count +=1\n",
    "                if count>10:\n",
    "                    FLAG = True\n",
    "                    break\n",
    "            if FLAG:continue\n",
    "            annotations_data = tmp['annotations']\n",
    "            if len(annotations_data) ==0: continue\n",
    "            if 'segmentation' not in annotations_data[0].keys(): continue\n",
    "            for annotation in annotations_data:\n",
    "                pts=list()\n",
    "                h, w, c = img.shape\n",
    "                mask = np.zeros((h,w), dtype=np.uint8)\n",
    "                x, y, w, h = np.array(annotation['bbox']).astype(int)\n",
    "                for i in range(len(annotation['segmentation'])//2):\n",
    "                    xx = annotation['segmentation'][2*i]\n",
    "                    yy = annotation['segmentation'][2*i+1]\n",
    "                    pts.append((int(xx),int(yy)))\n",
    "                pts = np.array(pts, dtype=np.int32)\n",
    "                cv2.fillPoly(mask, [pts], (255,255,255),cv2.LINE_8)\n",
    "                # pickup no image\n",
    "                if w>=h:\n",
    "                    if x>=10 and WIDTH-x>=10:\n",
    "                        start = y+HEIGHT-(WIDTH+20) if y+HEIGHT-(WIDTH+20)>0 else 0\n",
    "                        end = y+(WIDTH+20) if y+(WIDTH+20) < HEIGHT else HEIGHT\n",
    "                        tmp_area = [i for i in range(end-start-h)]\n",
    "                        if len(tmp_area)>=CHOISE_NUM:\n",
    "                            output = sample(tmp_area,10)\n",
    "                            for sample_num in output:\n",
    "                                tmp_img = img[sample_num:sample_num+(w+20),x-10:x+w+10] # WIDTH+20\n",
    "                                tmp_ok_img = img_ok[sample_num:sample_num+(w+20),x-10:x+w+10] # WIDTH+20\n",
    "                                tmp_mask = mask[sample_num:sample_num+(w+20),x-10:x+w+10] # WIDTH+20\n",
    "                                if np.sum(tmp_mask)<1e5:continue\n",
    "\n",
    "                                tmp_img=cv2.resize(tmp_img,(224,224))\n",
    "                                tmp_ok_img=cv2.resize(tmp_ok_img,(224,224))\n",
    "                                tmp_mask=cv2.resize(tmp_mask,(224,224))\n",
    "                                \n",
    "                                datasets.append((tmp_img,1, tmp_mask)) # 1: 불량\n",
    "                                datasets.append((tmp_ok_img,0, None)) # 1: 불량\n",
    "                                \n",
    "                    if x<10:\n",
    "                        start = y-(WIDTH) if y-(WIDTH)>0 else 0\n",
    "                        end = y+(WIDTH) if y+(WIDTH) < HEIGHT else HEIGHT\n",
    "                        tmp_area = [i for i in range(end-start-h+1)]\n",
    "                        if len(tmp_area)>=CHOISE_NUM:\n",
    "                            output = sample(tmp_area,10)\n",
    "                            for sample_num in output:\n",
    "                                tmp_img = img[sample_num:sample_num+w,0:w] # WIDTH+20\n",
    "                                tmp_ok_img = img_ok[sample_num:sample_num+w,0:w] # WIDTH+20\n",
    "                                tmp_mask = mask[sample_num:sample_num+w,0:w] # WIDTH+20\n",
    "                                if np.sum(tmp_mask)<1e5:continue       \n",
    "                                tmp_img=cv2.resize(tmp_img,(224,224))\n",
    "                                tmp_ok_img=cv2.resize(tmp_ok_img,(224,224))\n",
    "                                tmp_mask=cv2.resize(tmp_mask,(224,224))                         \n",
    "                                datasets.append((tmp_img,1,tmp_mask)) # 1: 불량\n",
    "                                datasets.append((tmp_ok_img,0,None)) # 1: 불량\n",
    "                        else:\n",
    "                            for sample_num in tmp_area:\n",
    "                                tmp_img = img[sample_num:sample_num+w,0:w] # WIDTH+20\n",
    "                                tmp_ok_img = img_ok[sample_num:sample_num+w,0:w] # WIDTH+20\n",
    "                                tmp_mask = mask[sample_num:sample_num+w,0:w] # WIDTH+20\n",
    "                                if np.sum(tmp_mask)<1e5:continue       \n",
    "                                tmp_img=cv2.resize(tmp_img,(224,224))\n",
    "                                tmp_ok_img=cv2.resize(tmp_ok_img,(224,224))\n",
    "                                tmp_mask=cv2.resize(tmp_mask,(224,224))                         \n",
    "                                datasets.append((tmp_img,1, tmp_mask)) # 1: 불량\n",
    "                                datasets.append((tmp_ok_img,0,None)) # 1: 불량\n",
    "                elif w<h:\n",
    "                    if y>=10 and WIDTH-y>=10:\n",
    "                        start = x+WIDTH-(HEIGHT+20) if x+WIDTH-(HEIGHT+20)>0 else 0\n",
    "                        end = x+(HEIGHT+20) if x+(HEIGHT+20) < WIDTH else WIDTH\n",
    "                        tmp_area = [i for i in range(end-start-w)]\n",
    "                        if len(tmp_area)>=CHOISE_NUM:\n",
    "                            output = sample(tmp_area,10)\n",
    "                            for sample_num in output:\n",
    "                                tmp_img = img[y-10:y+h+10,sample_num:sample_num+(h+20)] # WIDTH+20\n",
    "                                tmp_ok_img = img_ok[y-10:y+h+10,sample_num:sample_num+(h+20)] # WIDTH+20\n",
    "                                tmp_mask = mask[y-10:y+h+10,sample_num:sample_num+(h+20)] # WIDTH+20\n",
    "                                if np.sum(tmp_mask)<1e5:continue\n",
    "                                tmp_img=cv2.resize(tmp_img,(224,224))\n",
    "                                tmp_ok_img=cv2.resize(tmp_ok_img,(224,224))\n",
    "                                tmp_mask=cv2.resize(tmp_mask,(224,224))\n",
    "                                datasets.append((tmp_img,1, tmp_mask)) # 1: 불량\n",
    "                                datasets.append((tmp_ok_img,0, None)) # 0: 정상\n",
    "                                \n",
    "                    if y<10:\n",
    "                        start = x-(HEIGHT) if x-(HEIGHT)>0 else 0\n",
    "                        end = x+(HEIGHT) if x+(HEIGHT) < WIDTH else WIDTH\n",
    "                        tmp_area = [i for i in range(end-start-w+1)]\n",
    "                        if len(tmp_area)>=CHOISE_NUM:\n",
    "                            output = sample(tmp_area,10)\n",
    "                            for sample_num in output:\n",
    "                                tmp_img = img[0:h,sample_num:sample_num+h] # WIDTH+20\n",
    "                                tmp_ok_img = img_ok[0:h,sample_num:sample_num+h] # WIDTH+20\n",
    "                                tmp_mask = mask[0:h,sample_num:sample_num+h] # WIDTH+20\n",
    "                                if np.sum(tmp_mask)<1e5:continue       \n",
    "                                tmp_img=cv2.resize(tmp_img,(224,224))\n",
    "                                tmp_ok_img=cv2.resize(tmp_ok_img,(224,224))\n",
    "                                tmp_mask=cv2.resize(tmp_mask,(224,224))                         \n",
    "                                datasets.append((tmp_img,1,tmp_mask)) # 1: 불량\n",
    "                                datasets.append((tmp_ok_img,0,None)) # 1: 불량\n",
    "                        else:\n",
    "                            for sample_num in tmp_area:\n",
    "                                tmp_img = img[0:h,sample_num:sample_num+h] # WIDTH+20\n",
    "                                tmp_ok_img = img_ok[0:h,sample_num:sample_num+h] # WIDTH+20\n",
    "                                tmp_mask = mask[0:h,sample_num:sample_num+h] # WIDTH+20\n",
    "                                if np.sum(tmp_mask)<1e5:continue       \n",
    "                                tmp_img=cv2.resize(tmp_img,(224,224))\n",
    "                                tmp_ok_img=cv2.resize(tmp_ok_img,(224,224))\n",
    "                                tmp_mask=cv2.resize(tmp_mask,(224,224))                         \n",
    "                                datasets.append((tmp_img,1, tmp_mask)) # 1: 불량\n",
    "                                datasets.append((tmp_ok_img,0,None)) # 1: 불량\n",
    "                    "
   ]
  },
  {
   "cell_type": "code",
   "execution_count": 4,
   "metadata": {},
   "outputs": [],
   "source": [
    "classification_datasets = list()\n",
    "for dataset in datasets:\n",
    "    img, label, mask = dataset\n",
    "    h, w, c = img.shape\n",
    "    img = img.reshape(c,h,w)\n",
    "    classification_datasets.append((img/255.,label))\n",
    "with open('detected_img_classification_datasets.pickle', 'wb') as f:\n",
    "    pickle.dump(classification_datasets,f)"
   ]
  },
  {
   "cell_type": "code",
   "execution_count": 6,
   "metadata": {},
   "outputs": [],
   "source": [
    "segmentation_datasets = list()\n",
    "for dataset in datasets:\n",
    "    img, label, mask = dataset\n",
    "    h, w, c = img.shape\n",
    "    img = img.reshape(c,h,w)\n",
    "    segmentation_datasets.append((img/255.,mask))\n",
    "with open('detected_img_segmentation_datasets.pickle', 'wb') as f:\n",
    "    pickle.dump(segmentation_datasets,f)"
   ]
  }
 ],
 "metadata": {
  "interpreter": {
   "hash": "59b807c8e71eea35cddd73797a319c46f6da58d130705c0b1685d9f316ed1341"
  },
  "kernelspec": {
   "display_name": "Python 3.7.10 64-bit ('torch': venv)",
   "language": "python",
   "name": "python3"
  },
  "language_info": {
   "codemirror_mode": {
    "name": "ipython",
    "version": 3
   },
   "file_extension": ".py",
   "mimetype": "text/x-python",
   "name": "python",
   "nbconvert_exporter": "python",
   "pygments_lexer": "ipython3",
   "version": "3.7.10"
  },
  "orig_nbformat": 4
 },
 "nbformat": 4,
 "nbformat_minor": 2
}

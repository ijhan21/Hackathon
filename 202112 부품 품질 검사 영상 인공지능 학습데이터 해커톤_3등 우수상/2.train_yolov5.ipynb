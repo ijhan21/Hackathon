{
 "cells": [
  {
   "cell_type": "code",
   "execution_count": 1,
   "metadata": {},
   "outputs": [],
   "source": [
    "!git clone https://github.com/ultralytics/yolov5.git"
   ]
  },
  {
   "cell_type": "code",
   "execution_count": 2,
   "metadata": {},
   "outputs": [
    {
     "name": "stdout",
     "output_type": "stream",
     "text": [
      "/home/ubuntu/competitions/hackathon/yolov5/yolov5\n",
      "Looking in indexes: http://ftp.daumkakao.com/pypi/simple\n",
      "Requirement already satisfied: matplotlib>=3.2.2 in /home/ubuntu/VENV/torch/lib/python3.7/site-packages (from -r requirements.txt (line 4)) (3.5.1)\n",
      "Requirement already satisfied: numpy>=1.18.5 in /home/ubuntu/VENV/torch/lib/python3.7/site-packages (from -r requirements.txt (line 5)) (1.19.5)\n",
      "Requirement already satisfied: opencv-python>=4.1.2 in /home/ubuntu/VENV/torch/lib/python3.7/site-packages (from -r requirements.txt (line 6)) (4.5.4.60)\n",
      "Requirement already satisfied: Pillow>=7.1.2 in /home/ubuntu/VENV/torch/lib/python3.7/site-packages (from -r requirements.txt (line 7)) (8.4.0)\n",
      "Requirement already satisfied: PyYAML>=5.3.1 in /home/ubuntu/VENV/torch/lib/python3.7/site-packages (from -r requirements.txt (line 8)) (6.0)\n",
      "Requirement already satisfied: requests>=2.23.0 in /home/ubuntu/VENV/torch/lib/python3.7/site-packages (from -r requirements.txt (line 9)) (2.26.0)\n",
      "Requirement already satisfied: scipy>=1.4.1 in /home/ubuntu/VENV/torch/lib/python3.7/site-packages (from -r requirements.txt (line 10)) (1.7.1)\n",
      "Requirement already satisfied: torch>=1.7.0 in /home/ubuntu/VENV/torch/lib/python3.7/site-packages (from -r requirements.txt (line 11)) (1.10.0+cu113)\n",
      "Requirement already satisfied: torchvision>=0.8.1 in /home/ubuntu/VENV/torch/lib/python3.7/site-packages (from -r requirements.txt (line 12)) (0.11.1+cu113)\n",
      "Requirement already satisfied: tqdm>=4.41.0 in /home/ubuntu/VENV/torch/lib/python3.7/site-packages (from -r requirements.txt (line 13)) (4.62.3)\n",
      "Requirement already satisfied: tensorboard>=2.4.1 in /home/ubuntu/VENV/torch/lib/python3.7/site-packages (from -r requirements.txt (line 16)) (2.7.0)\n",
      "Requirement already satisfied: pandas>=1.1.4 in /home/ubuntu/VENV/torch/lib/python3.7/site-packages (from -r requirements.txt (line 20)) (1.3.4)\n",
      "Requirement already satisfied: seaborn>=0.11.0 in /home/ubuntu/VENV/torch/lib/python3.7/site-packages (from -r requirements.txt (line 21)) (0.11.2)\n",
      "Requirement already satisfied: thop in /home/ubuntu/VENV/torch/lib/python3.7/site-packages (from -r requirements.txt (line 36)) (0.0.31.post2005241907)\n",
      "Requirement already satisfied: packaging>=20.0 in /home/ubuntu/VENV/torch/lib/python3.7/site-packages (from matplotlib>=3.2.2->-r requirements.txt (line 4)) (21.3)\n",
      "Requirement already satisfied: fonttools>=4.22.0 in /home/ubuntu/VENV/torch/lib/python3.7/site-packages (from matplotlib>=3.2.2->-r requirements.txt (line 4)) (4.28.4)\n",
      "Requirement already satisfied: cycler>=0.10 in /home/ubuntu/VENV/torch/lib/python3.7/site-packages (from matplotlib>=3.2.2->-r requirements.txt (line 4)) (0.11.0)\n",
      "Requirement already satisfied: kiwisolver>=1.0.1 in /home/ubuntu/VENV/torch/lib/python3.7/site-packages (from matplotlib>=3.2.2->-r requirements.txt (line 4)) (1.3.2)\n",
      "Requirement already satisfied: python-dateutil>=2.7 in /home/ubuntu/VENV/torch/lib/python3.7/site-packages (from matplotlib>=3.2.2->-r requirements.txt (line 4)) (2.8.2)\n",
      "Requirement already satisfied: pyparsing>=2.2.1 in /home/ubuntu/VENV/torch/lib/python3.7/site-packages (from matplotlib>=3.2.2->-r requirements.txt (line 4)) (3.0.6)\n",
      "Requirement already satisfied: charset-normalizer~=2.0.0 in /home/ubuntu/VENV/torch/lib/python3.7/site-packages (from requests>=2.23.0->-r requirements.txt (line 9)) (2.0.7)\n",
      "Requirement already satisfied: idna<4,>=2.5 in /home/ubuntu/VENV/torch/lib/python3.7/site-packages (from requests>=2.23.0->-r requirements.txt (line 9)) (3.3)\n",
      "Requirement already satisfied: urllib3<1.27,>=1.21.1 in /home/ubuntu/VENV/torch/lib/python3.7/site-packages (from requests>=2.23.0->-r requirements.txt (line 9)) (1.26.7)\n",
      "Requirement already satisfied: certifi>=2017.4.17 in /home/ubuntu/VENV/torch/lib/python3.7/site-packages (from requests>=2.23.0->-r requirements.txt (line 9)) (2021.10.8)\n",
      "Requirement already satisfied: typing-extensions in /home/ubuntu/VENV/torch/lib/python3.7/site-packages (from torch>=1.7.0->-r requirements.txt (line 11)) (3.7.4.3)\n",
      "Requirement already satisfied: markdown>=2.6.8 in /home/ubuntu/VENV/torch/lib/python3.7/site-packages (from tensorboard>=2.4.1->-r requirements.txt (line 16)) (3.3.4)\n",
      "Requirement already satisfied: google-auth<3,>=1.6.3 in /home/ubuntu/VENV/torch/lib/python3.7/site-packages (from tensorboard>=2.4.1->-r requirements.txt (line 16)) (2.3.2)\n",
      "Requirement already satisfied: absl-py>=0.4 in /home/ubuntu/VENV/torch/lib/python3.7/site-packages (from tensorboard>=2.4.1->-r requirements.txt (line 16)) (0.15.0)\n",
      "Requirement already satisfied: werkzeug>=0.11.15 in /home/ubuntu/VENV/torch/lib/python3.7/site-packages (from tensorboard>=2.4.1->-r requirements.txt (line 16)) (2.0.2)\n",
      "Requirement already satisfied: setuptools>=41.0.0 in /home/ubuntu/VENV/torch/lib/python3.7/site-packages (from tensorboard>=2.4.1->-r requirements.txt (line 16)) (58.3.0)\n",
      "Requirement already satisfied: grpcio>=1.24.3 in /home/ubuntu/VENV/torch/lib/python3.7/site-packages (from tensorboard>=2.4.1->-r requirements.txt (line 16)) (1.41.1)\n",
      "Requirement already satisfied: tensorboard-plugin-wit>=1.6.0 in /home/ubuntu/VENV/torch/lib/python3.7/site-packages (from tensorboard>=2.4.1->-r requirements.txt (line 16)) (1.8.0)\n",
      "Requirement already satisfied: google-auth-oauthlib<0.5,>=0.4.1 in /home/ubuntu/VENV/torch/lib/python3.7/site-packages (from tensorboard>=2.4.1->-r requirements.txt (line 16)) (0.4.6)\n",
      "Requirement already satisfied: protobuf>=3.6.0 in /home/ubuntu/VENV/torch/lib/python3.7/site-packages (from tensorboard>=2.4.1->-r requirements.txt (line 16)) (3.19.0)\n",
      "Requirement already satisfied: wheel>=0.26 in /home/ubuntu/VENV/torch/lib/python3.7/site-packages (from tensorboard>=2.4.1->-r requirements.txt (line 16)) (0.37.0)\n",
      "Requirement already satisfied: tensorboard-data-server<0.7.0,>=0.6.0 in /home/ubuntu/VENV/torch/lib/python3.7/site-packages (from tensorboard>=2.4.1->-r requirements.txt (line 16)) (0.6.1)\n",
      "Requirement already satisfied: pytz>=2017.3 in /home/ubuntu/VENV/torch/lib/python3.7/site-packages (from pandas>=1.1.4->-r requirements.txt (line 20)) (2021.3)\n",
      "Requirement already satisfied: six in /home/ubuntu/VENV/torch/lib/python3.7/site-packages (from absl-py>=0.4->tensorboard>=2.4.1->-r requirements.txt (line 16)) (1.15.0)\n",
      "Requirement already satisfied: rsa<5,>=3.1.4 in /home/ubuntu/VENV/torch/lib/python3.7/site-packages (from google-auth<3,>=1.6.3->tensorboard>=2.4.1->-r requirements.txt (line 16)) (4.7.2)\n",
      "Requirement already satisfied: pyasn1-modules>=0.2.1 in /home/ubuntu/VENV/torch/lib/python3.7/site-packages (from google-auth<3,>=1.6.3->tensorboard>=2.4.1->-r requirements.txt (line 16)) (0.2.8)\n",
      "Requirement already satisfied: cachetools<5.0,>=2.0.0 in /home/ubuntu/VENV/torch/lib/python3.7/site-packages (from google-auth<3,>=1.6.3->tensorboard>=2.4.1->-r requirements.txt (line 16)) (4.2.4)\n",
      "Requirement already satisfied: requests-oauthlib>=0.7.0 in /home/ubuntu/VENV/torch/lib/python3.7/site-packages (from google-auth-oauthlib<0.5,>=0.4.1->tensorboard>=2.4.1->-r requirements.txt (line 16)) (1.3.0)\n",
      "Requirement already satisfied: importlib-metadata in /home/ubuntu/VENV/torch/lib/python3.7/site-packages (from markdown>=2.6.8->tensorboard>=2.4.1->-r requirements.txt (line 16)) (4.8.1)\n",
      "Requirement already satisfied: pyasn1<0.5.0,>=0.4.6 in /home/ubuntu/VENV/torch/lib/python3.7/site-packages (from pyasn1-modules>=0.2.1->google-auth<3,>=1.6.3->tensorboard>=2.4.1->-r requirements.txt (line 16)) (0.4.8)\n",
      "Requirement already satisfied: oauthlib>=3.0.0 in /home/ubuntu/VENV/torch/lib/python3.7/site-packages (from requests-oauthlib>=0.7.0->google-auth-oauthlib<0.5,>=0.4.1->tensorboard>=2.4.1->-r requirements.txt (line 16)) (3.1.1)\n",
      "Requirement already satisfied: zipp>=0.5 in /home/ubuntu/VENV/torch/lib/python3.7/site-packages (from importlib-metadata->markdown>=2.6.8->tensorboard>=2.4.1->-r requirements.txt (line 16)) (3.6.0)\n"
     ]
    }
   ],
   "source": [
    "# %cd yolov5\n",
    "# !pip install -r requirements.txt"
   ]
  },
  {
   "cell_type": "code",
   "execution_count": 3,
   "metadata": {},
   "outputs": [],
   "source": [
    "# %cat ../datasets/data.yaml"
   ]
  },
  {
   "cell_type": "code",
   "execution_count": 4,
   "metadata": {},
   "outputs": [
    {
     "name": "stdout",
     "output_type": "stream",
     "text": [
      "[Errno 2] No such file or directory: 'yolov5'\n",
      "/home/ubuntu/competitions/hackathon/yolov5/yolov5\n"
     ]
    }
   ],
   "source": [
    "%cd yolov5"
   ]
  },
  {
   "cell_type": "code",
   "execution_count": 5,
   "metadata": {},
   "outputs": [],
   "source": [
    "from glob import glob\n",
    "img_list = glob(\"/home/ubuntu/competitions/hackathon/yolov5/datasets/export/images/*.*\")"
   ]
  },
  {
   "cell_type": "code",
   "execution_count": 6,
   "metadata": {},
   "outputs": [],
   "source": [
    "from sklearn.model_selection import train_test_split\n",
    "train_img_list, val_img_list = train_test_split(img_list, test_size=0.1, shuffle=True)"
   ]
  },
  {
   "cell_type": "code",
   "execution_count": 7,
   "metadata": {},
   "outputs": [],
   "source": [
    "with open('/home/ubuntu/competitions/hackathon/yolov5/datasets/train.txt', 'w') as f:\n",
    "  f.write('\\n'.join(train_img_list)+'\\n')\n",
    "with open('/home/ubuntu/competitions/hackathon/yolov5/datasets/val.txt', 'w') as f:\n",
    "  f.write('\\n'.join(val_img_list)+'\\n')"
   ]
  },
  {
   "cell_type": "code",
   "execution_count": 8,
   "metadata": {},
   "outputs": [
    {
     "name": "stdout",
     "output_type": "stream",
     "text": [
      "{'names': ['target'], 'nc': 1, 'train': '/home/ubuntu/competitions/hackathon/yolov5/datasets/train.txt', 'val': '/home/ubuntu/competitions/hackathon/yolov5/datasets/val.txt'}\n",
      "{'names': ['target'], 'nc': 1, 'train': '/home/ubuntu/competitions/hackathon/yolov5/datasets/train.txt', 'val': '/home/ubuntu/competitions/hackathon/yolov5/datasets/val.txt'}\n"
     ]
    }
   ],
   "source": [
    "import yaml\n",
    "with open('/home/ubuntu/competitions/hackathon/yolov5/datasets/data.yaml', 'r') as f:\n",
    "  data = yaml.safe_load(f)\n",
    "print(data)\n",
    "data['train'] = '/home/ubuntu/competitions/hackathon/yolov5/datasets/train.txt'\n",
    "data['val'] = '/home/ubuntu/competitions/hackathon/yolov5/datasets/val.txt'\n",
    "with open('/home/ubuntu/competitions/hackathon/yolov5/datasets/data.yaml', 'w') as f:\n",
    "  yaml.dump(data,f)\n",
    "print(data)"
   ]
  },
  {
   "cell_type": "code",
   "execution_count": 9,
   "metadata": {},
   "outputs": [
    {
     "name": "stdout",
     "output_type": "stream",
     "text": [
      "[Errno 2] No such file or directory: 'yolov5/'\n",
      "/home/ubuntu/competitions/hackathon/yolov5/yolov5\n",
      "\u001b[34m\u001b[1mtrain: \u001b[0mweights=yolov5s.pt, cfg=./models/yolov5s.yaml, data=/home/ubuntu/competitions/hackathon/yolov5/datasets/data.yaml, hyp=data/hyps/hyp.scratch.yaml, epochs=50, batch_size=16, imgsz=416, rect=False, resume=False, nosave=False, noval=False, noautoanchor=False, evolve=None, bucket=, cache=None, image_weights=False, device=, multi_scale=False, single_cls=False, adam=False, sync_bn=False, workers=8, project=runs/train, name=gun_yolov5s_results, exist_ok=False, quad=False, linear_lr=False, label_smoothing=0.0, patience=100, freeze=0, save_period=-1, local_rank=-1, entity=None, upload_dataset=False, bbox_interval=-1, artifact_alias=latest\n",
      "\u001b[34m\u001b[1mgithub: \u001b[0m⚠️ YOLOv5 is out of date by 1 commit. Use `git pull` or `git clone https://github.com/ultralytics/yolov5` to update.\n",
      "YOLOv5 🚀 v6.0-151-gabbdd48 torch 1.10.0+cu113 CUDA:0 (A100-PCIE-40GB, 40537MiB)\n",
      "\n",
      "\u001b[34m\u001b[1mhyperparameters: \u001b[0mlr0=0.01, lrf=0.1, momentum=0.937, weight_decay=0.0005, warmup_epochs=3.0, warmup_momentum=0.8, warmup_bias_lr=0.1, box=0.05, cls=0.5, cls_pw=1.0, obj=1.0, obj_pw=1.0, iou_t=0.2, anchor_t=4.0, fl_gamma=0.0, hsv_h=0.015, hsv_s=0.7, hsv_v=0.4, degrees=0.0, translate=0.1, scale=0.5, shear=0.0, perspective=0.0, flipud=0.0, fliplr=0.5, mosaic=1.0, mixup=0.0, copy_paste=0.0\n",
      "\u001b[34m\u001b[1mWeights & Biases: \u001b[0mrun 'pip install wandb' to automatically track and visualize YOLOv5 🚀 runs (RECOMMENDED)\n",
      "\u001b[34m\u001b[1mTensorBoard: \u001b[0mStart with 'tensorboard --logdir runs/train', view at http://localhost:6006/\n",
      "Overriding model.yaml nc=80 with nc=1\n",
      "\n",
      "                 from  n    params  module                                  arguments                     \n",
      "  0                -1  1      3520  models.common.Conv                      [3, 32, 6, 2, 2]              \n",
      "  1                -1  1     18560  models.common.Conv                      [32, 64, 3, 2]                \n",
      "  2                -1  1     18816  models.common.C3                        [64, 64, 1]                   \n",
      "  3                -1  1     73984  models.common.Conv                      [64, 128, 3, 2]               \n",
      "  4                -1  2    115712  models.common.C3                        [128, 128, 2]                 \n",
      "  5                -1  1    295424  models.common.Conv                      [128, 256, 3, 2]              \n",
      "  6                -1  3    625152  models.common.C3                        [256, 256, 3]                 \n",
      "  7                -1  1   1180672  models.common.Conv                      [256, 512, 3, 2]              \n",
      "  8                -1  1   1182720  models.common.C3                        [512, 512, 1]                 \n",
      "  9                -1  1    656896  models.common.SPPF                      [512, 512, 5]                 \n",
      " 10                -1  1    131584  models.common.Conv                      [512, 256, 1, 1]              \n",
      " 11                -1  1         0  torch.nn.modules.upsampling.Upsample    [None, 2, 'nearest']          \n",
      " 12           [-1, 6]  1         0  models.common.Concat                    [1]                           \n",
      " 13                -1  1    361984  models.common.C3                        [512, 256, 1, False]          \n",
      " 14                -1  1     33024  models.common.Conv                      [256, 128, 1, 1]              \n",
      " 15                -1  1         0  torch.nn.modules.upsampling.Upsample    [None, 2, 'nearest']          \n",
      " 16           [-1, 4]  1         0  models.common.Concat                    [1]                           \n",
      " 17                -1  1     90880  models.common.C3                        [256, 128, 1, False]          \n",
      " 18                -1  1    147712  models.common.Conv                      [128, 128, 3, 2]              \n",
      " 19          [-1, 14]  1         0  models.common.Concat                    [1]                           \n",
      " 20                -1  1    296448  models.common.C3                        [256, 256, 1, False]          \n",
      " 21                -1  1    590336  models.common.Conv                      [256, 256, 3, 2]              \n",
      " 22          [-1, 10]  1         0  models.common.Concat                    [1]                           \n",
      " 23                -1  1   1182720  models.common.C3                        [512, 512, 1, False]          \n",
      " 24      [17, 20, 23]  1     16182  models.yolo.Detect                      [1, [[10, 13, 16, 30, 33, 23], [30, 61, 62, 45, 59, 119], [116, 90, 156, 198, 373, 326]], [128, 256, 512]]\n",
      "Model Summary: 270 layers, 7022326 parameters, 7022326 gradients, 15.8 GFLOPs\n",
      "\n",
      "Transferred 342/349 items from yolov5s.pt\n",
      "Scaled weight_decay = 0.0005\n",
      "\u001b[34m\u001b[1moptimizer:\u001b[0m SGD with parameter groups 57 weight, 60 weight (no decay), 60 bias\n",
      "\u001b[34m\u001b[1mtrain: \u001b[0mScanning '/home/ubuntu/competitions/hackathon/yolov5/datasets/train' imag\u001b[0m\n",
      "\u001b[34m\u001b[1mtrain: \u001b[0mNew cache created: /home/ubuntu/competitions/hackathon/yolov5/datasets/train.cache\n",
      "\u001b[34m\u001b[1mval: \u001b[0mScanning '/home/ubuntu/competitions/hackathon/yolov5/datasets/val' images a\u001b[0m\n",
      "\u001b[34m\u001b[1mval: \u001b[0mNew cache created: /home/ubuntu/competitions/hackathon/yolov5/datasets/val.cache\n",
      "Plotting labels to runs/train/gun_yolov5s_results6/labels.jpg... \n",
      "\n",
      "\u001b[34m\u001b[1mAutoAnchor: \u001b[0m4.33 anchors/target, 0.996 Best Possible Recall (BPR). Current anchors are a good fit to dataset ✅\n",
      "Image sizes 416 train, 416 val\n",
      "Using 8 dataloader workers\n",
      "Logging results to \u001b[1mruns/train/gun_yolov5s_results6\u001b[0m\n",
      "Starting training for 50 epochs...\n",
      "\n",
      "     Epoch   gpu_mem       box       obj       cls    labels  img_size\n",
      "      0/49     1.47G    0.1054   0.01943         0        31       416: 100%|███\n",
      "               Class     Images     Labels          P          R     mAP@.5 mAP@\n",
      "                 all        396        544    0.00579     0.0441    0.00241   0.000403\n",
      "\n",
      "     Epoch   gpu_mem       box       obj       cls    labels  img_size\n",
      "      1/49     1.31G   0.09632    0.0194         0        41       416:  14%|█▍ ^C\n",
      "      1/49     1.31G   0.09632    0.0194         0        41       416:  14%|█▍ \n",
      "Traceback (most recent call last):\n",
      "  File \"train.py\", line 626, in <module>\n",
      "    main(opt)\n",
      "  File \"train.py\", line 523, in main\n",
      "    train(opt.hyp, opt, device, callbacks)\n",
      "  File \"train.py\", line 320, in train\n",
      "    loss, loss_items = compute_loss(pred, targets.to(device))  # loss scaled by batch_size\n",
      "  File \"/home/ubuntu/competitions/hackathon/yolov5/yolov5/utils/loss.py\", line 120, in __call__\n",
      "    tcls, tbox, indices, anchors = self.build_targets(p, targets)  # targets\n",
      "  File \"/home/ubuntu/competitions/hackathon/yolov5/yolov5/utils/loss.py\", line 184, in build_targets\n",
      "    anchors = self.anchors[i]\n",
      "KeyboardInterrupt\n"
     ]
    }
   ],
   "source": [
    "%cd yolov5/\n",
    "!python train.py --img 640 --batch 128 --epochs 5000 --data /home/ubuntu/competitions/hackathon/yolov5/datasets/data.yaml --cfg ./models/yolov5s.yaml --weights yolov5s.pt --name gun_yolov5s_results"
   ]
  }
 ],
 "metadata": {
  "interpreter": {
   "hash": "59b807c8e71eea35cddd73797a319c46f6da58d130705c0b1685d9f316ed1341"
  },
  "kernelspec": {
   "display_name": "Python 3.7.10 64-bit ('torch': venv)",
   "language": "python",
   "name": "python3"
  },
  "language_info": {
   "codemirror_mode": {
    "name": "ipython",
    "version": 3
   },
   "file_extension": ".py",
   "mimetype": "text/x-python",
   "name": "python",
   "nbconvert_exporter": "python",
   "pygments_lexer": "ipython3",
   "version": "3.7.10"
  },
  "orig_nbformat": 4
 },
 "nbformat": 4,
 "nbformat_minor": 2
}

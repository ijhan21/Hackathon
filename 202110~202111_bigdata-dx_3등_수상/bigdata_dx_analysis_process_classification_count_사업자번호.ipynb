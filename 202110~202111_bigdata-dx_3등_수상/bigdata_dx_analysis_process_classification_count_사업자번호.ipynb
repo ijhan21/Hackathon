{
  "cells": [
    {
      "cell_type": "code",
      "execution_count": 1,
      "metadata": {},
      "outputs": [],
      "source": [
        "# 아래 커맨드를 터미널에서 실행해 주세요\n",
        "# !sudo apt-get install -y fonts-nanum\n",
        "# !sudo fc-cache -fv\n",
        "# !rm ~/.cache/matplotlib -rf\n",
        "# pip install lightgbm"
      ]
    },
    {
      "cell_type": "code",
      "execution_count": 1,
      "metadata": {
        "id": "8_6NIiuaK0yn"
      },
      "outputs": [],
      "source": [
        "import warnings\n",
        "import pandas as pd\n",
        "import os\n",
        "import matplotlib.pyplot as plt\n",
        "import seaborn as sns\n",
        "from xgboost import XGBRegressor,XGBClassifier # model\n",
        "from xgboost import plot_importance # 중요변수 시각화\n",
        "from sklearn.model_selection import train_test_split\n",
        "from sklearn.metrics import mean_squared_error\n",
        "from sklearn.tree import export_graphviz\n",
        "import warnings\n",
        "import numpy as np\n",
        "warnings.filterwarnings(action='ignore')\n",
        "\n",
        "plt.rc('font', family='NanumBarunGothic') \n",
        "warnings.simplefilter(\"ignore\")"
      ]
    },
    {
      "cell_type": "code",
      "execution_count": 3,
      "metadata": {
        "id": "SmI1utiBKllw"
      },
      "outputs": [],
      "source": [
        "PATH = r\"./datas/\""
      ]
    },
    {
      "cell_type": "code",
      "execution_count": 4,
      "metadata": {
        "colab": {
          "base_uri": "https://localhost:8080/"
        },
        "id": "0Qk34_2zLAeP",
        "outputId": "592905e2-c5b2-4a7d-a3ef-cdd7d9f83d14"
      },
      "outputs": [],
      "source": [
        "# source_list = os.listdir(PATH)\n",
        "# source_dict = dict()\n",
        "# for idx, source in enumerate(source_list):\n",
        "#   source_dict[idx]=source\n",
        "source_dict={0: 'RND 정보_대회용_TB_BS_RND_I.csv',\n",
        "  1: '기업 경쟁력 정보_대회용_TB_BS_COMPETE_I.csv',\n",
        "  2: '사업화 보유 역량_대회용_TB_BS_BIZ_I.csv',\n",
        "  3: '마케팅 보유 역량_대회용_TB_BS_HR_D.csv',\n",
        "  4: '평판 정보_대회용_TB_BS_RI_I.csv',\n",
        "  5: '국내 시장 동향_대회용_TB_BS_DMT_I.csv',\n",
        "  6: '마케팅 역량 정보_대회용_TB_BS_MR_I.csv',\n",
        "  7: '비즈니스모델 정보_대회용_TB_BS_BM_I.csv',\n",
        "  8: '경쟁사 현황_대회용_TB_BS_CPT_I.csv',\n",
        "  9: '산업분류코드_대회용_TB_BS_CODE_C.csv',\n",
        "  10: '기술기반 보유 역량_대회용_TB_BS_IP_I.csv',\n",
        "  11: '인적자원 보유 역량_대회용_TB_BS_HR_I.csv',\n",
        "  12: '글로벌 시장 동향_대회용_TB_BS_GMT_I.csv'}\n",
        "source_list=list(source_dict.values())"
      ]
    },
    {
      "cell_type": "code",
      "execution_count": 5,
      "metadata": {
        "id": "vJudLZE0LHG7"
      },
      "outputs": [],
      "source": [
        "src_dict = dict()\n",
        "for source in source_list:  \n",
        "  try:\n",
        "    df = pd.read_csv(PATH+source, encoding=\"euc-kr\")\n",
        "  except UnicodeDecodeError:\n",
        "    df = pd.read_csv(PATH+source, encoding=\"utf-8\")\n",
        "  src_dict[source.split('.')[0]]=df"
      ]
    },
    {
      "cell_type": "code",
      "execution_count": 18,
      "metadata": {},
      "outputs": [
        {
          "name": "stdout",
          "output_type": "stream",
          "text": [
            "src_key: 국내 시장 동향_대회용_TB_BS_DMT_I\n",
            "src_key: 경쟁사 현황_대회용_TB_BS_CPT_I\n",
            "src_key: 산업분류코드_대회용_TB_BS_CODE_C\n",
            "src_key: 글로벌 시장 동향_대회용_TB_BS_GMT_I\n"
          ]
        }
      ],
      "source": [
        "company_num_dict=dict()\n",
        "for src_key, src_value in src_dict.items():    \n",
        "    try:\n",
        "        company_num_dict[src_key]=set(src_value.사업자번호)\n",
        "    except AttributeError as e:\n",
        "        print(\"src_key:\",src_key)\n"
      ]
    },
    {
      "cell_type": "code",
      "execution_count": 28,
      "metadata": {},
      "outputs": [
        {
          "name": "stdout",
          "output_type": "stream",
          "text": [
            "RND 정보_대회용_TB_BS_RND_I 기업 경쟁력 정보_대회용_TB_BS_COMPETE_I\n",
            "중복 사업자 번호 개수 909\n",
            "\n",
            "RND 정보_대회용_TB_BS_RND_I 사업화 보유 역량_대회용_TB_BS_BIZ_I\n",
            "중복 사업자 번호 개수 909\n",
            "\n",
            "RND 정보_대회용_TB_BS_RND_I 마케팅 보유 역량_대회용_TB_BS_HR_D\n",
            "중복 사업자 번호 개수 57\n",
            "\n",
            "RND 정보_대회용_TB_BS_RND_I 평판 정보_대회용_TB_BS_RI_I\n",
            "중복 사업자 번호 개수 5000\n",
            "\n",
            "RND 정보_대회용_TB_BS_RND_I 마케팅 역량 정보_대회용_TB_BS_MR_I\n",
            "중복 사업자 번호 개수 5000\n",
            "\n",
            "RND 정보_대회용_TB_BS_RND_I 비즈니스모델 정보_대회용_TB_BS_BM_I\n",
            "중복 사업자 번호 개수 10\n",
            "\n",
            "RND 정보_대회용_TB_BS_RND_I 기술기반 보유 역량_대회용_TB_BS_IP_I\n",
            "중복 사업자 번호 개수 57\n",
            "\n",
            "RND 정보_대회용_TB_BS_RND_I 인적자원 보유 역량_대회용_TB_BS_HR_I\n",
            "중복 사업자 번호 개수 57\n",
            "\n",
            "기업 경쟁력 정보_대회용_TB_BS_COMPETE_I 사업화 보유 역량_대회용_TB_BS_BIZ_I\n",
            "중복 사업자 번호 개수 1995\n",
            "\n",
            "기업 경쟁력 정보_대회용_TB_BS_COMPETE_I 마케팅 보유 역량_대회용_TB_BS_HR_D\n",
            "중복 사업자 번호 개수 246\n",
            "\n",
            "기업 경쟁력 정보_대회용_TB_BS_COMPETE_I 평판 정보_대회용_TB_BS_RI_I\n",
            "중복 사업자 번호 개수 909\n",
            "\n",
            "기업 경쟁력 정보_대회용_TB_BS_COMPETE_I 마케팅 역량 정보_대회용_TB_BS_MR_I\n",
            "중복 사업자 번호 개수 909\n",
            "\n",
            "기업 경쟁력 정보_대회용_TB_BS_COMPETE_I 비즈니스모델 정보_대회용_TB_BS_BM_I\n",
            "중복 사업자 번호 개수 10\n",
            "\n",
            "기업 경쟁력 정보_대회용_TB_BS_COMPETE_I 기술기반 보유 역량_대회용_TB_BS_IP_I\n",
            "중복 사업자 번호 개수 246\n",
            "\n",
            "기업 경쟁력 정보_대회용_TB_BS_COMPETE_I 인적자원 보유 역량_대회용_TB_BS_HR_I\n",
            "중복 사업자 번호 개수 246\n",
            "\n",
            "사업화 보유 역량_대회용_TB_BS_BIZ_I 마케팅 보유 역량_대회용_TB_BS_HR_D\n",
            "중복 사업자 번호 개수 246\n",
            "\n",
            "사업화 보유 역량_대회용_TB_BS_BIZ_I 평판 정보_대회용_TB_BS_RI_I\n",
            "중복 사업자 번호 개수 909\n",
            "\n",
            "사업화 보유 역량_대회용_TB_BS_BIZ_I 마케팅 역량 정보_대회용_TB_BS_MR_I\n",
            "중복 사업자 번호 개수 909\n",
            "\n",
            "사업화 보유 역량_대회용_TB_BS_BIZ_I 비즈니스모델 정보_대회용_TB_BS_BM_I\n",
            "중복 사업자 번호 개수 10\n",
            "\n",
            "사업화 보유 역량_대회용_TB_BS_BIZ_I 기술기반 보유 역량_대회용_TB_BS_IP_I\n",
            "중복 사업자 번호 개수 246\n",
            "\n",
            "사업화 보유 역량_대회용_TB_BS_BIZ_I 인적자원 보유 역량_대회용_TB_BS_HR_I\n",
            "중복 사업자 번호 개수 246\n",
            "\n",
            "마케팅 보유 역량_대회용_TB_BS_HR_D 평판 정보_대회용_TB_BS_RI_I\n",
            "중복 사업자 번호 개수 57\n",
            "\n",
            "마케팅 보유 역량_대회용_TB_BS_HR_D 마케팅 역량 정보_대회용_TB_BS_MR_I\n",
            "중복 사업자 번호 개수 57\n",
            "\n",
            "마케팅 보유 역량_대회용_TB_BS_HR_D 비즈니스모델 정보_대회용_TB_BS_BM_I\n",
            "중복 사업자 번호 개수 2\n",
            "\n",
            "마케팅 보유 역량_대회용_TB_BS_HR_D 기술기반 보유 역량_대회용_TB_BS_IP_I\n",
            "중복 사업자 번호 개수 795\n",
            "\n",
            "마케팅 보유 역량_대회용_TB_BS_HR_D 인적자원 보유 역량_대회용_TB_BS_HR_I\n",
            "중복 사업자 번호 개수 795\n",
            "\n",
            "평판 정보_대회용_TB_BS_RI_I 마케팅 역량 정보_대회용_TB_BS_MR_I\n",
            "중복 사업자 번호 개수 5000\n",
            "\n",
            "평판 정보_대회용_TB_BS_RI_I 비즈니스모델 정보_대회용_TB_BS_BM_I\n",
            "중복 사업자 번호 개수 10\n",
            "\n",
            "평판 정보_대회용_TB_BS_RI_I 기술기반 보유 역량_대회용_TB_BS_IP_I\n",
            "중복 사업자 번호 개수 57\n",
            "\n",
            "평판 정보_대회용_TB_BS_RI_I 인적자원 보유 역량_대회용_TB_BS_HR_I\n",
            "중복 사업자 번호 개수 57\n",
            "\n",
            "마케팅 역량 정보_대회용_TB_BS_MR_I 비즈니스모델 정보_대회용_TB_BS_BM_I\n",
            "중복 사업자 번호 개수 10\n",
            "\n",
            "마케팅 역량 정보_대회용_TB_BS_MR_I 기술기반 보유 역량_대회용_TB_BS_IP_I\n",
            "중복 사업자 번호 개수 57\n",
            "\n",
            "마케팅 역량 정보_대회용_TB_BS_MR_I 인적자원 보유 역량_대회용_TB_BS_HR_I\n",
            "중복 사업자 번호 개수 57\n",
            "\n",
            "비즈니스모델 정보_대회용_TB_BS_BM_I 기술기반 보유 역량_대회용_TB_BS_IP_I\n",
            "중복 사업자 번호 개수 2\n",
            "\n",
            "비즈니스모델 정보_대회용_TB_BS_BM_I 인적자원 보유 역량_대회용_TB_BS_HR_I\n",
            "중복 사업자 번호 개수 2\n",
            "\n",
            "기술기반 보유 역량_대회용_TB_BS_IP_I 인적자원 보유 역량_대회용_TB_BS_HR_I\n",
            "중복 사업자 번호 개수 795\n",
            "\n"
          ]
        }
      ],
      "source": [
        "from itertools import combinations\n",
        "check_merge = list(combinations(company_num_dict.keys(),2))\n",
        "for comp1, comp2 in check_merge:    \n",
        "    print(comp1, comp2)\n",
        "    out = list(set(src_dict[comp1].사업자번호).intersection(set(src_dict[comp2].사업자번호)))\n",
        "    print('중복 사업자 번호 개수',len(out))\n",
        "    print()\n"
      ]
    },
    {
      "cell_type": "code",
      "execution_count": 12,
      "metadata": {
        "id": "liOygfMdB_Ev"
      },
      "outputs": [],
      "source": [
        "class AnalysisBigData:\n",
        "  def __init__(self, *datas):\n",
        "    self.datas=datas\n",
        "    self.grades = {'A':0, 'B':1, 'C':2, 'D':3, 'E':4, 'F':5}\n",
        "    self.output = None\n",
        "    self.corr = None\n",
        "    self.merge_datas()\n",
        "  \n",
        "  def merge_datas(self):\n",
        "    output = None\n",
        "    for data in self.datas:\n",
        "      # print(data.columns)\n",
        "      for col in data.columns:\n",
        "        if col == '최종평판등급': continue # 최종평판점수->최종평판등급 classsification을 위한 범주로 변경\n",
        "        # elif col in ['일반 평판 점수', '신용 평판 점수', '미래 평판 점수','최종평판점수']:\n",
        "        elif col in ['최종평판점수']:\n",
        "          # print(col)\n",
        "          data.drop(col,axis=1,inplace=True)        \n",
        "        elif len(data[col].value_counts())==1:\n",
        "          data.drop(col,axis=1,inplace=True)\n",
        "        elif data[col].dtype == 'object':\n",
        "          data.drop(col,axis=1,inplace=True)\n",
        "      if '사업자번호' not in data.columns.values:\n",
        "        print('no 사업자번호')\n",
        "        continue\n",
        "\n",
        "      if output is None:\n",
        "        output = data\n",
        "      else:\n",
        "        output = pd.merge(output, data, on='사업자번호', how='left')\n",
        "    output.dropna(axis=1,inplace=True)\n",
        "    output.drop('사업자번호',axis=1,inplace=True)\n",
        "    corr = self.heatmap_func(output)\n",
        "    self.output = output\n",
        "\n",
        "  def heatmap_func(self,data):\n",
        "    data_tmp = data.copy()\n",
        "    data_tmp['최종평판등급'] = data_tmp['최종평판등급'].apply(lambda x: self.grades[x])\n",
        "    corr = data_tmp.corr()\n",
        "    self.corr = corr\n",
        "    plt.figure(figsize=(15, 15));\n",
        "    sns.heatmap(corr,\n",
        "                vmax=0.8,\n",
        "                linewidths=0.01,\n",
        "                square=True,\n",
        "                annot=True,\n",
        "                cmap='YlGnBu',);\n",
        "    plt.show()\n",
        "\n",
        "  def get_data(self):\n",
        "    # onehot_encoder = OneHotEncoder(sparse=False, categories='auto')\n",
        "    # tmp_ar = np.eye(6)\n",
        "    grades = {'A':0, 'B':1, 'C':2, 'D':3, 'E':4, 'F':5}\n",
        "    labels = self.output.pop('최종평판등급') # 최종평판점수->최종평판등급 classsification을 위한 범주로 변경\n",
        "    labels = labels.apply(lambda x: grades[x])\n",
        "    return self.output, labels\n",
        "  \n",
        "  "
      ]
    },
    {
      "cell_type": "markdown",
      "metadata": {
        "id": "x_0kkfJRHqc-"
      },
      "source": [
        "# 데이터별 인덱스 매칭 정보\n",
        "- 0: 'RND 정보_대회용_TB_BS_RND_I.csv',\n",
        "- 1: '기업 경쟁력 정보_대회용_TB_BS_COMPETE_I.csv',\n",
        "- 2: '사업화 보유 역량_대회용_TB_BS_BIZ_I.csv',\n",
        "- 3: '마케팅 보유 역량_대회용_TB_BS_HR_D.csv',\n",
        "- 4: '평판 정보_대회용_TB_BS_RI_I.csv',\n",
        "- 5: '국내 시장 동향_대회용_TB_BS_DMT_I.csv',\n",
        "- 6: '마케팅 역량 정보_대회용_TB_BS_MR_I.csv',\n",
        "- 7: '비즈니스모델 정보_대회용_TB_BS_BM_I.csv',\n",
        "- 8: '경쟁사 현황_대회용_TB_BS_CPT_I.csv',\n",
        "- 9: '산업분류코드_대회용_TB_BS_CODE_C.csv',\n",
        "- 10: '기술기반 보유 역량_대회용_TB_BS_IP_I.csv',\n",
        "- 11: '인적자원 보유 역량_대회용_TB_BS_HR_I.csv',\n",
        "- 12: '글로벌 시장 동향_대회용_TB_BS_GMT_I.csv"
      ]
    },
    {
      "cell_type": "code",
      "execution_count": 13,
      "metadata": {
        "colab": {
          "base_uri": "https://localhost:8080/",
          "height": 888
        },
        "id": "7dCWU2LmCSaS",
        "outputId": "a4d16307-144f-4f7a-b510-2d9f1dec6ad3"
      },
      "outputs": [
        {
          "data": {
            "image/png": "[encoded data removed]",
            "text/plain": [
              "<Figure size 1080x1080 with 1 Axes>"
            ]
          },
          "metadata": {
            "needs_background": "light"
          },
          "output_type": "display_data"
        }
      ],
      "source": [
        "def accuracy_rate(test, pred):\n",
        "  test = np.array(test, dtype=np.int16)\n",
        "  test = test.reshape(-1,1)\n",
        "  pred = np.array(pred, dtype=np.int16)\n",
        "  pred = pred.reshape(-1,1)\n",
        "  return np.mean(test==pred)\n",
        "\n",
        "def get_data_input(idx):\n",
        "  name = source_dict[idx]\n",
        "  # print(name)\n",
        "  return src_dict[name.split('.')[0]]\n",
        "\n",
        "input_1, input_2 = get_data_input(4),get_data_input(6) \n",
        "abd = AnalysisBigData(input_1, input_2,get_data_input(0), get_data_input(1),get_data_input(2),get_data_input(3),get_data_input(7),get_data_input(10))"
      ]
    },
    {
      "cell_type": "markdown",
      "metadata": {
        "id": "VoE0sfUiJS6F"
      },
      "source": [
        "# 분석 프로세스\n",
        "- XGBoost\n",
        "- RandomForest\n",
        "- LightGBM"
      ]
    },
    {
      "cell_type": "markdown",
      "metadata": {},
      "source": [
        "### 상관계수의 값은 낮게 나오나 여러 features의 값을 머신러닝에 적용해 보면 높은 정확도를 보입니다."
      ]
    },
    {
      "cell_type": "code",
      "execution_count": null,
      "metadata": {
        "id": "agZ3OxPxcJgj"
      },
      "outputs": [],
      "source": [
        "X,y = abd.get_data()\n",
        "X_train, X_test, y_train, y_test = train_test_split(X,y,test_size=0.2, stratify=y)"
      ]
    },
    {
      "cell_type": "markdown",
      "metadata": {
        "id": "NCpGTXafK71u"
      },
      "source": [
        "## XGBoost"
      ]
    },
    {
      "cell_type": "code",
      "execution_count": null,
      "metadata": {
        "id": "iR6QoS_CJ1s-"
      },
      "outputs": [],
      "source": [
        "# model_xg = XGBClassifier(device='gpu', use_rmm=True)\n",
        "model_xg = XGBClassifier(use_rmm=True)"
      ]
    },
    {
      "cell_type": "code",
      "execution_count": null,
      "metadata": {
        "colab": {
          "base_uri": "https://localhost:8080/",
          "height": 311
        },
        "id": "_Z_hcywRumCy",
        "outputId": "27ac30a7-ecc5-4552-a8cf-b9cf15e2a186"
      },
      "outputs": [
        {
          "name": "stdout",
          "output_type": "stream",
          "text": [
            "[15:40:39] WARNING: ../src/learner.cc:1095: Starting in XGBoost 1.3.0, the default evaluation metric used with the objective 'multi:softprob' was changed from 'merror' to 'mlogloss'. Explicitly set eval_metric if you'd like to restore the old behavior.\n"
          ]
        },
        {
          "data": {
            "text/plain": [
              "<AxesSubplot:title={'center':'Feature importance'}, xlabel='F score', ylabel='Features'>"
            ]
          },
          "execution_count": 10,
          "metadata": {},
          "output_type": "execute_result"
        },
        {
          "data": {
            "image/png": "[encoded data removed]",
            "text/plain": [
              "<Figure size 432x288 with 1 Axes>"
            ]
          },
          "metadata": {
            "needs_background": "light"
          },
          "output_type": "display_data"
        }
      ],
      "source": [
        "model_xg.fit(X_train, y_train)\n",
        "plot_importance(model_xg)"
      ]
    },
    {
      "cell_type": "code",
      "execution_count": null,
      "metadata": {
        "id": "RV0u2FrAnK1R"
      },
      "outputs": [],
      "source": [
        "pred_y = model_xg.predict(X_test)"
      ]
    },
    {
      "cell_type": "code",
      "execution_count": null,
      "metadata": {
        "colab": {
          "base_uri": "https://localhost:8080/"
        },
        "id": "b-AKXkaNnaiG",
        "outputId": "a97ad763-5a72-48ee-8d62-afb8661d334f"
      },
      "outputs": [
        {
          "data": {
            "text/plain": [
              "0.006986027944111776"
            ]
          },
          "execution_count": 12,
          "metadata": {},
          "output_type": "execute_result"
        }
      ],
      "source": [
        "mean_squared_error(y_test,pred_y)"
      ]
    },
    {
      "cell_type": "code",
      "execution_count": null,
      "metadata": {},
      "outputs": [
        {
          "data": {
            "text/plain": [
              "0.9930139720558883"
            ]
          },
          "execution_count": 13,
          "metadata": {},
          "output_type": "execute_result"
        }
      ],
      "source": [
        "accuracy_rate(y_test,pred_y)"
      ]
    },
    {
      "cell_type": "markdown",
      "metadata": {
        "id": "LdOqkUP9KxiL"
      },
      "source": [
        "## RandomForest"
      ]
    },
    {
      "cell_type": "code",
      "execution_count": null,
      "metadata": {
        "colab": {
          "base_uri": "https://localhost:8080/"
        },
        "id": "Vp0lCSdRnb3P",
        "outputId": "e7c94a8a-e67c-4658-aae6-8edbc584b8b3"
      },
      "outputs": [
        {
          "data": {
            "text/plain": [
              "0.017964071856287425"
            ]
          },
          "execution_count": 14,
          "metadata": {},
          "output_type": "execute_result"
        }
      ],
      "source": [
        "from sklearn.ensemble import RandomForestClassifier\n",
        "model_rf = RandomForestClassifier()\n",
        "model_rf.fit(X_train, y_train)\n",
        "pred_y = model_rf.predict(X_test)\n",
        "mean_squared_error(y_test,pred_y)"
      ]
    },
    {
      "cell_type": "code",
      "execution_count": null,
      "metadata": {},
      "outputs": [
        {
          "data": {
            "text/plain": [
              "0.9820359281437125"
            ]
          },
          "execution_count": 15,
          "metadata": {},
          "output_type": "execute_result"
        }
      ],
      "source": [
        "accuracy_rate(y_test, pred_y)"
      ]
    },
    {
      "cell_type": "markdown",
      "metadata": {
        "id": "r7xSR2yJKlAM"
      },
      "source": [
        "## lightGBM"
      ]
    },
    {
      "cell_type": "code",
      "execution_count": null,
      "metadata": {
        "colab": {
          "base_uri": "https://localhost:8080/"
        },
        "id": "YFUVk-kMtILV",
        "outputId": "b78eab61-e327-468e-b214-fcfbb447b2bd"
      },
      "outputs": [
        {
          "data": {
            "text/plain": [
              "0.22355289421157684"
            ]
          },
          "execution_count": 16,
          "metadata": {},
          "output_type": "execute_result"
        }
      ],
      "source": [
        "from lightgbm import LGBMClassifier\n",
        "\n",
        "# train_ds = lgb.Dataset(X_train, label = y_train)\n",
        "# test_ds = lgb.Dataset(X_test, label = y_test)\n",
        "params = {'learning_rate': 0.01,\n",
        "          'max_depth': 16,\n",
        "          'boosting': 'dart',# 'gbdt', 'rf', 'dart','goss'\n",
        "          'objective': 'multiclass',\n",
        "          'num_class':5,\n",
        "          'metric': 'multi_logloss',\n",
        "          'is_training_metric': True,\n",
        "          'num_leaves': 144,\n",
        "          'feature_fraction': 0.9,\n",
        "          'bagging_fraction': 0.7,\n",
        "          'bagging_freq': 5,\n",
        "          'seed':2020}\n",
        "model_lgb = LGBMClassifier(boosting_type='gbdt', num_leaves=100, max_depth=-1, learning_rate=0.01, n_estimators=5)\n",
        "# model = lgb.train(params, train_ds, 10000, test_ds, verbose_eval=1000, early_stopping_rounds=100)\n",
        "model_lgb.fit(X_train, y_train)\n",
        "pred_y=model_lgb.predict(X_test)\n",
        "mean_squared_error(y_test,pred_y)"
      ]
    },
    {
      "cell_type": "code",
      "execution_count": null,
      "metadata": {},
      "outputs": [
        {
          "data": {
            "text/plain": [
              "0.779441117764471"
            ]
          },
          "execution_count": 17,
          "metadata": {},
          "output_type": "execute_result"
        }
      ],
      "source": [
        "accuracy_rate(y_test, pred_y)"
      ]
    },
    {
      "cell_type": "code",
      "execution_count": null,
      "metadata": {
        "colab": {
          "base_uri": "https://localhost:8080/"
        },
        "id": "i3TAlN8_tm0E",
        "outputId": "60e1ae15-a148-4536-95d5-94b91f38246f"
      },
      "outputs": [
        {
          "data": {
            "text/plain": [
              "0.5374677340794665"
            ]
          },
          "execution_count": 30,
          "metadata": {},
          "output_type": "execute_result"
        }
      ],
      "source": [
        "accuracy_rate(y_test,pred_y)"
      ]
    }
  ],
  "metadata": {
    "colab": {
      "collapsed_sections": [],
      "name": "bigdata-dx-analysis-process-regressor.ipynb",
      "provenance": []
    },
    "interpreter": {
      "hash": "126d251e82445e8ab3e40d3b2c5c519fe55df64a8770247e32c47e5ab8519b28"
    },
    "kernelspec": {
      "display_name": "Python 3.8.10 64-bit ('mlvenv': venv)",
      "name": "python3"
    },
    "language_info": {
      "codemirror_mode": {
        "name": "ipython",
        "version": 3
      },
      "file_extension": ".py",
      "mimetype": "text/x-python",
      "name": "python",
      "nbconvert_exporter": "python",
      "pygments_lexer": "ipython3",
      "version": "3.8.10"
    }
  },
  "nbformat": 4,
  "nbformat_minor": 0
}
